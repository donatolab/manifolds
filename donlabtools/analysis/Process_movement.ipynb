{
 "cells": [
  {
   "cell_type": "code",
   "execution_count": 1,
   "id": "3f67a6dc-ac29-4135-a506-607562ad77d1",
   "metadata": {},
   "outputs": [
    {
     "data": {
      "application/javascript": "IPython.notebook.set_autosave_interval(180000)"
     },
     "metadata": {},
     "output_type": "display_data"
    },
    {
     "name": "stdout",
     "output_type": "stream",
     "text": [
      "Autosaving every 180 seconds\n"
     ]
    },
    {
     "name": "stderr",
     "output_type": "stream",
     "text": [
      "<ipython-input-1-3df9a861b721>:12: DeprecationWarning: Importing display from IPython.core.display is deprecated since IPython 7.14, please import from IPython display\n",
      "  from IPython.core.display import display, HTML\n"
     ]
    },
    {
     "data": {
      "text/html": [
       "<style>.container { width:100% !important; }</style>"
      ],
      "text/plain": [
       "<IPython.core.display.HTML object>"
      ]
     },
     "metadata": {},
     "output_type": "display_data"
    },
    {
     "name": "stderr",
     "output_type": "stream",
     "text": [
      "/home/cat/.conda/envs/donato/lib/python3.8/site-packages/tqdm/auto.py:22: TqdmWarning: IProgress not found. Please update jupyter and ipywidgets. See https://ipywidgets.readthedocs.io/en/stable/user_install.html\n",
      "  from .autonotebook import tqdm as notebook_tqdm\n"
     ]
    }
   ],
   "source": [
    "import matplotlib\n",
    "%matplotlib tk\n",
    "%autosave 180\n",
    "%load_ext autoreload\n",
    "%autoreload 2\n",
    "\n",
    "import nest_asyncio\n",
    "%config Completer.use_jedi = False\n",
    "\n",
    "#\n",
    "import matplotlib.pyplot as plt\n",
    "from IPython.core.display import display, HTML\n",
    "display(HTML(\"<style>.container { width:100% !important; }</style>\"))\n",
    "\n",
    "# \n",
    "import numpy as np\n",
    "import os\n",
    "import scipy\n",
    "\n",
    "# add root directory to be able to import packages\n",
    "# todo: make all packages installable so they can be called/imported by environment\n",
    "import sys\n",
    "module_path = os.path.abspath(os.path.join('..'))\n",
    "sys.path.append(module_path)\n",
    "\n",
    "from utils.calcium import calcium\n",
    "\n",
    "from utils.wheel import wheel"
   ]
  },
  {
   "cell_type": "code",
   "execution_count": null,
   "id": "717e760d-3423-4f50-91e8-8cee9bb6a3cc",
   "metadata": {},
   "outputs": [],
   "source": [
    "#########################################################\n",
    "########## COMPUTE VELOCITY FROM ROTARY ENCODER ##########\n",
    "##########################################################\n",
    "from tqdm import trange\n",
    "\n",
    "#\n",
    "def binarize(data):\n",
    "    \n",
    "    idx = np.where(data<2.5)[0]\n",
    "    idx2 = np.where(data>=2.5)[0]\n",
    "    \n",
    "    data[idx] = 0\n",
    "    data[idx2] = 1\n",
    "    \n",
    "    #\n",
    "    return data\n",
    "\n",
    "#\n",
    "def get_velocity(rot1, rot2):\n",
    "    \n",
    "    # distance\n",
    "    n_clicks_per_rotation = 500\n",
    "    ball_diameter = 0.2  # distance in meters\n",
    "    ball_circumference = ball_diameter*3.141592\n",
    "    dist_per_click = ball_circumference/n_clicks_per_rotation\n",
    "    \n",
    "    # time\n",
    "    sample_rate = 1000\n",
    "    seconds_per_time_stamp = 1/sample_rate\n",
    "    \n",
    "    \n",
    "    #\n",
    "    bin1 = binarize(rot1)\n",
    "    bin2 = binarize(rot2)\n",
    "    \n",
    "    #\n",
    "    clicks = np.array((bin1, bin2)).T.squeeze()\n",
    "    print (clicks)\n",
    "        \n",
    "    #\n",
    "    vel = []\n",
    "    times = []\n",
    "    last_click_location = 0\n",
    "    time_since_last_click = 0\n",
    "    rot1_last_state = clicks[0,0]\n",
    "    rot2_state = clicks[0,1]\n",
    "    for k in trange(0,clicks.shape[0],1):\n",
    "        \n",
    "        #\n",
    "        if clicks[k,0]!=rot1_last_state:\n",
    "            distance = dist_per_click  #only walked 1 click\n",
    "            time = time_since_last_click*seconds_per_time_stamp\n",
    "            \n",
    "            # \n",
    "            v = distance/time \n",
    "            \n",
    "            #\n",
    "            vel.append(v)\n",
    "            times.append(k/sample_rate)       \n",
    "            \n",
    "            #\n",
    "            time_since_last_click=0\n",
    "            last_click_location=k #.copy()\n",
    "            rot1_last_state=clicks[k,0]\n",
    "        else:\n",
    "            vel.append(0)\n",
    "            times.append(k/sample_rate)       \n",
    "\n",
    "        #    \n",
    "        time_since_last_click+=1\n",
    "    #\n",
    "    return np.array(vel), np.array(times)\n",
    "    "
   ]
  },
  {
   "cell_type": "code",
   "execution_count": null,
   "metadata": {},
   "outputs": [],
   "source": []
  },
  {
   "cell_type": "code",
   "execution_count": null,
   "id": "ebed7982-8e39-4ac6-aa4b-dba14d2b3993",
   "metadata": {},
   "outputs": [
    {
     "name": "stdout",
     "output_type": "stream",
     "text": [
      "/run/user/1000/gvfs/smb-share:server=scicore-toucan.scicore.unibas.ch,share=donafl00-calcium$/Users/Rodrigo/DON-006084/20210519/TRD-2P/DON-006084_20210519_TRD-2P_S1-ACQ.mat\n",
      "\n",
      "fname 1:  /run/user/1000/gvfs/smb-share:server=scicore-toucan.scicore.unibas.ch,share=donafl00-calcium$/Users/Rodrigo/DON-006084/20210519/TRD-2P/wheel.npy\n",
      "fname 1:  /run/user/1000/gvfs/smb-share:server=scicore-toucan.scicore.unibas.ch,share=donafl00-calcium$/Users/Rodrigo/DON-006084/20210520/TRD-2P/wheel.npy\n"
     ]
    },
    {
     "name": "stderr",
     "output_type": "stream",
     "text": [
      "100%|█████████████████████████████| 2787808/2787808 [00:11<00:00, 235459.75it/s]\n"
     ]
    },
    {
     "name": "stdout",
     "output_type": "stream",
     "text": [
      "non-zero rotary encoder vals:  [      17      116      211 ... 18297307 18297605 18298432]\n"
     ]
    },
    {
     "name": "stderr",
     "output_type": "stream",
     "text": [
      "100%|█████████████████████████████████| 28578/28578 [00:00<00:00, 110591.30it/s]\n"
     ]
    },
    {
     "name": "stdout",
     "output_type": "stream",
     "text": [
      "vel_times:  [      17      115      211 ... 18297307 18297605 18298432]\n"
     ]
    },
    {
     "name": "stderr",
     "output_type": "stream",
     "text": [
      "refilling stationary times: 100%|█████| 28577/28577 [00:00<00:00, 195990.00it/s]\n"
     ]
    },
    {
     "name": "stdout",
     "output_type": "stream",
     "text": [
      "vel times:  (30926,)\n",
      "vel values:  (30926,) [ 0.73919827  0.12693304  0.13227758 ...  0.01459509 -0.04216903\n",
      " -0.01519513]\n",
      "self.track.galvo_triggers.times:  [   80244    80567    80890 ... 18084800 18085123 18085446]\n",
      "vel_times: [      17      115      211 ... 18297307 18297605 18298432]\n",
      "fname 1:  /run/user/1000/gvfs/smb-share:server=scicore-toucan.scicore.unibas.ch,share=donafl00-calcium$/Users/Rodrigo/DON-006084/20210521/TRD-2P/wheel.npy\n"
     ]
    },
    {
     "name": "stderr",
     "output_type": "stream",
     "text": [
      "100%|█████████████████████████████| 2787744/2787744 [00:11<00:00, 246306.57it/s]\n"
     ]
    },
    {
     "name": "stdout",
     "output_type": "stream",
     "text": [
      "non-zero rotary encoder vals:  [   47761    49711    52087 ... 18299649 18299792 18299930]\n"
     ]
    },
    {
     "name": "stderr",
     "output_type": "stream",
     "text": [
      "100%|█████████████████████████████████| 19035/19035 [00:00<00:00, 111035.42it/s]\n"
     ]
    },
    {
     "name": "stdout",
     "output_type": "stream",
     "text": [
      "vel_times:  [   47760    49711    52087 ... 18299649 18299792 18299930]\n"
     ]
    },
    {
     "name": "stderr",
     "output_type": "stream",
     "text": [
      "refilling stationary times: 100%|█████| 19034/19034 [00:00<00:00, 180093.94it/s]\n"
     ]
    },
    {
     "name": "stdout",
     "output_type": "stream",
     "text": [
      "vel times:  (21271,)\n",
      "vel values:  (21271,) [ 0.00026311 -0.00644429  0.00528888 ...  0.08267349  0.08787671\n",
      "  0.09106065]\n",
      "self.track.galvo_triggers.times:  [   53940    54263    54586 ... 18058435 18058758 18059081]\n",
      "vel_times: [   47760    49711    52087 ... 18299649 18299792 18299930]\n",
      "fname 1:  /run/user/1000/gvfs/smb-share:server=scicore-toucan.scicore.unibas.ch,share=donafl00-calcium$/Users/Rodrigo/DON-006084/20210522/TRD-2P/wheel.npy\n"
     ]
    },
    {
     "name": "stderr",
     "output_type": "stream",
     "text": [
      "100%|█████████████████████████████| 2787690/2787690 [00:11<00:00, 247295.51it/s]\n"
     ]
    },
    {
     "name": "stdout",
     "output_type": "stream",
     "text": [
      "non-zero rotary encoder vals:  [   17396    18092    56465 ... 18260553 18262043 18263570]\n"
     ]
    },
    {
     "name": "stderr",
     "output_type": "stream",
     "text": [
      "100%|█████████████████████████████████| 17041/17041 [00:00<00:00, 109563.44it/s]\n"
     ]
    },
    {
     "name": "stdout",
     "output_type": "stream",
     "text": [
      "vel_times:  [   17396    18092    56464 ... 18260553 18262043 18263570]\n"
     ]
    },
    {
     "name": "stderr",
     "output_type": "stream",
     "text": [
      "refilling stationary times: 100%|█████| 17040/17040 [00:00<00:00, 180810.46it/s]"
     ]
    },
    {
     "name": "stdout",
     "output_type": "stream",
     "text": [
      "vel times:  (19197,)\n",
      "vel values:  (19197,) [ 0.00072237 -0.01805513  0.         ...  0.         -0.00843381\n",
      "  0.00822945]\n",
      "self.track.galvo_triggers.times:  [   55588    55911    56234 ... 18059919 18060242 18060565]\n",
      "vel_times: [   17396    18092    23092 ... 18258133 18262043 18263570]\n"
     ]
    },
    {
     "name": "stderr",
     "output_type": "stream",
     "text": [
      "\n"
     ]
    },
    {
     "name": "stdout",
     "output_type": "stream",
     "text": [
      "fname 1:  /run/user/1000/gvfs/smb-share:server=scicore-toucan.scicore.unibas.ch,share=donafl00-calcium$/Users/Rodrigo/DON-006084/20210523/TRD-2P/wheel.npy\n"
     ]
    },
    {
     "name": "stderr",
     "output_type": "stream",
     "text": [
      "100%|█████████████████████████████| 2787743/2787743 [00:11<00:00, 251648.12it/s]\n"
     ]
    },
    {
     "name": "stdout",
     "output_type": "stream",
     "text": [
      "non-zero rotary encoder vals:  [    1504     3064     5087 ... 18289581 18290270 18290812]\n"
     ]
    },
    {
     "name": "stderr",
     "output_type": "stream",
     "text": [
      "100%|████████████████████████████████████| 7537/7537 [00:00<00:00, 97617.56it/s]\n"
     ]
    },
    {
     "name": "stdout",
     "output_type": "stream",
     "text": [
      "vel_times:  [    1504     3064     5087 ... 18289581 18290270 18290812]\n"
     ]
    },
    {
     "name": "stderr",
     "output_type": "stream",
     "text": [
      "refilling stationary times: 100%|███████| 7536/7536 [00:00<00:00, 154027.42it/s]\n"
     ]
    },
    {
     "name": "stdout",
     "output_type": "stream",
     "text": [
      "vel times:  (9838,)\n",
      "vel values:  (9838,) [ 0.0083553  -0.00805537  0.00621175 ...  0.00819724  0.01823856\n",
      "  0.02318519]\n",
      "self.track.galvo_triggers.times:  [   89159    89482    89805 ... 18093706 18094029 18094352]\n",
      "vel_times: [    1504     3064     5087 ... 18289581 18290270 18290812]\n",
      "fname 1:  /run/user/1000/gvfs/smb-share:server=scicore-toucan.scicore.unibas.ch,share=donafl00-calcium$/Users/Rodrigo/DON-006084/20210524/TRD-2P/wheel.npy\n"
     ]
    },
    {
     "name": "stderr",
     "output_type": "stream",
     "text": [
      "100%|█████████████████████████████| 2787793/2787793 [00:11<00:00, 250741.11it/s]\n"
     ]
    },
    {
     "name": "stdout",
     "output_type": "stream",
     "text": [
      "non-zero rotary encoder vals:  [   51151    58859    59596 ... 18285411 18286123 18287276]\n"
     ]
    },
    {
     "name": "stderr",
     "output_type": "stream",
     "text": [
      "100%|████████████████████████████████████| 8048/8048 [00:00<00:00, 80539.80it/s]\n"
     ]
    },
    {
     "name": "stdout",
     "output_type": "stream",
     "text": [
      "vel_times:  [   51151    58859    59596 ... 18285411 18286123 18287276]\n"
     ]
    },
    {
     "name": "stderr",
     "output_type": "stream",
     "text": [
      "refilling stationary times: 100%|███████| 8047/8047 [00:00<00:00, 133520.44it/s]\n"
     ]
    },
    {
     "name": "stdout",
     "output_type": "stream",
     "text": [
      "vel times:  (10212,)\n",
      "vel values:  (10212,) [ 0.00024567  0.         -0.01705071 ...  0.02043312  0.0176494\n",
      "  0.01089885]\n",
      "self.track.galvo_triggers.times:  [   69388    69711    70034 ... 18073597 18073920 18074243]\n",
      "vel_times: [   51151    56151    59596 ... 18285411 18286123 18287276]\n",
      "fname 1:  /run/user/1000/gvfs/smb-share:server=scicore-toucan.scicore.unibas.ch,share=donafl00-calcium$/Users/Rodrigo/DON-006084/20210525/TRD-2P/wheel.npy\n"
     ]
    },
    {
     "name": "stderr",
     "output_type": "stream",
     "text": [
      "100%|█████████████████████████████| 2787791/2787791 [00:11<00:00, 246702.95it/s]\n"
     ]
    },
    {
     "name": "stdout",
     "output_type": "stream",
     "text": [
      "non-zero rotary encoder vals:  [   34768    35971    36591 ... 18074028 18127147 18128565]\n"
     ]
    },
    {
     "name": "stderr",
     "output_type": "stream",
     "text": [
      "100%|████████████████████████████████████| 6047/6047 [00:00<00:00, 88761.43it/s]\n"
     ]
    },
    {
     "name": "stdout",
     "output_type": "stream",
     "text": [
      "vel_times:  [   34768    35971    36591 ... 18074028 18127147 18128565]\n"
     ]
    },
    {
     "name": "stderr",
     "output_type": "stream",
     "text": [
      "refilling stationary times: 100%|███████| 6046/6046 [00:00<00:00, 154095.72it/s]\n"
     ]
    },
    {
     "name": "stdout",
     "output_type": "stream",
     "text": [
      "vel times:  (8679,)\n",
      "vel values:  (8679,) [ 0.00036143 -0.01044586  0.02026834 ...  0.          0.\n",
      "  0.00886204]\n",
      "self.track.galvo_triggers.times:  [   51774    52097    52420 ... 18056274 18056597 18056920]\n",
      "vel_times: [   34768    35971    36591 ... 18119028 18124028 18128565]\n",
      "fname 1:  /run/user/1000/gvfs/smb-share:server=scicore-toucan.scicore.unibas.ch,share=donafl00-calcium$/Users/Rodrigo/DON-006084/20210526/TRD-2P/wheel.npy\n"
     ]
    },
    {
     "name": "stderr",
     "output_type": "stream",
     "text": [
      "100%|█████████████████████████████| 2787805/2787805 [00:10<00:00, 254168.67it/s]\n"
     ]
    },
    {
     "name": "stdout",
     "output_type": "stream",
     "text": [
      "non-zero rotary encoder vals:  [   36986    37863    38494 ... 18193649 18193937 18196880]\n"
     ]
    },
    {
     "name": "stderr",
     "output_type": "stream",
     "text": [
      "100%|███████████████████████████████████| 8749/8749 [00:00<00:00, 103800.20it/s]\n"
     ]
    },
    {
     "name": "stdout",
     "output_type": "stream",
     "text": [
      "vel_times:  [   36986    37863    38494 ... 18193649 18193937 18196880]\n"
     ]
    },
    {
     "name": "stderr",
     "output_type": "stream",
     "text": [
      "refilling stationary times: 100%|███████| 8748/8748 [00:00<00:00, 163763.80it/s]\n"
     ]
    },
    {
     "name": "stdout",
     "output_type": "stream",
     "text": [
      "vel times:  (11007,)\n",
      "vel values:  (11007,) [-0.00033976 -0.01432882  0.01991501 ...  0.06314759  0.04363323\n",
      "  0.00426992]\n",
      "self.track.galvo_triggers.times:  [   61122    61445    61768 ... 18065579 18065902 18066225]\n",
      "vel_times: [   36986    37863    38494 ... 18193649 18193937 18196880]\n",
      "fname 1:  /run/user/1000/gvfs/smb-share:server=scicore-toucan.scicore.unibas.ch,share=donafl00-calcium$/Users/Rodrigo/DON-006084/20210527/TRD-2P/wheel.npy\n"
     ]
    },
    {
     "name": "stderr",
     "output_type": "stream",
     "text": [
      "100%|█████████████████████████████| 2787758/2787758 [00:11<00:00, 252438.40it/s]\n"
     ]
    },
    {
     "name": "stdout",
     "output_type": "stream",
     "text": [
      "non-zero rotary encoder vals:  [  122278   123922   124917 ... 18297391 18298115 18299756]\n"
     ]
    },
    {
     "name": "stderr",
     "output_type": "stream",
     "text": [
      "100%|█████████████████████████████████| 17328/17328 [00:00<00:00, 111987.88it/s]\n"
     ]
    },
    {
     "name": "stdout",
     "output_type": "stream",
     "text": [
      "vel_times:  [  122278   123922   124917 ... 18297391 18298115 18299756]\n"
     ]
    },
    {
     "name": "stderr",
     "output_type": "stream",
     "text": [
      "refilling stationary times: 100%|█████| 17327/17327 [00:00<00:00, 182542.43it/s]"
     ]
    },
    {
     "name": "stdout",
     "output_type": "stream",
     "text": [
      "vel times:  (19485,)\n",
      "vel values:  (19485,) [-0.00010277  0.00764378  0.01262952 ...  0.03424079  0.01735687\n",
      " -0.00765775]\n",
      "self.track.galvo_triggers.times:  [   85500    85823    86146 ... 18090062 18090385 18090708]\n",
      "vel_times: [  122278   123922   124917 ... 18297391 18298115 18299756]\n"
     ]
    },
    {
     "name": "stderr",
     "output_type": "stream",
     "text": [
      "\n"
     ]
    },
    {
     "name": "stdout",
     "output_type": "stream",
     "text": [
      "fname 1:  /run/user/1000/gvfs/smb-share:server=scicore-toucan.scicore.unibas.ch,share=donafl00-calcium$/Users/Rodrigo/DON-006084/20210528/TRD-2P/wheel.npy\n"
     ]
    },
    {
     "name": "stderr",
     "output_type": "stream",
     "text": [
      "100%|█████████████████████████████| 2787789/2787789 [00:10<00:00, 253481.28it/s]\n"
     ]
    },
    {
     "name": "stdout",
     "output_type": "stream",
     "text": [
      "non-zero rotary encoder vals:  [   39147    40154    96741 ... 18212593 18233739 18234384]\n"
     ]
    },
    {
     "name": "stderr",
     "output_type": "stream",
     "text": [
      "100%|████████████████████████████████████| 6371/6371 [00:00<00:00, 98538.30it/s]\n"
     ]
    },
    {
     "name": "stdout",
     "output_type": "stream",
     "text": [
      "vel_times:  [   39147    40154    96740 ... 18212593 18233739 18234384]\n"
     ]
    },
    {
     "name": "stderr",
     "output_type": "stream",
     "text": [
      "refilling stationary times: 100%|███████| 6370/6370 [00:00<00:00, 161996.24it/s]\n"
     ]
    },
    {
     "name": "stdout",
     "output_type": "stream",
     "text": [
      "vel times:  (8941,)\n",
      "vel values:  (8941,) [ 0.000321   -0.01247902  0.         ...  0.          0.\n",
      " -0.01948274]\n",
      "self.track.galvo_triggers.times:  [  102448   102771   103094 ... 18106533 18106856 18107179]\n",
      "vel_times: [   39147    40154    45154 ... 18227593 18232593 18234384]\n",
      "fname 1:  /run/user/1000/gvfs/smb-share:server=scicore-toucan.scicore.unibas.ch,share=donafl00-calcium$/Users/Rodrigo/DON-006085/20210519/TRD-2P/wheel.npy\n"
     ]
    },
    {
     "name": "stderr",
     "output_type": "stream",
     "text": [
      "100%|█████████████████████████████| 2787785/2787785 [00:10<00:00, 255440.09it/s]\n"
     ]
    },
    {
     "name": "stdout",
     "output_type": "stream",
     "text": [
      "non-zero rotary encoder vals:  [   47587    48642    49826 ... 18156533 18225266 18225980]\n"
     ]
    },
    {
     "name": "stderr",
     "output_type": "stream",
     "text": [
      "100%|█████████████████████████████████| 14192/14192 [00:00<00:00, 108235.58it/s]\n"
     ]
    },
    {
     "name": "stdout",
     "output_type": "stream",
     "text": [
      "vel_times:  [   47587    48642    49826 ... 18156533 18225266 18225980]\n"
     ]
    },
    {
     "name": "stderr",
     "output_type": "stream",
     "text": [
      "refilling stationary times: 100%|█████| 14191/14191 [00:00<00:00, 182154.55it/s]\n"
     ]
    },
    {
     "name": "stdout",
     "output_type": "stream",
     "text": [
      "vel times:  (16470,)\n",
      "vel values:  (16470,) [ 0.00026407  0.01191125  0.01061349 ...  0.          0.\n",
      " -0.01759996]\n",
      "self.track.galvo_triggers.times:  [   87407    87730    88053 ... 18092066 18092389 18092712]\n",
      "vel_times: [   47587    48642    49826 ... 18216533 18221533 18225980]\n",
      "fname 1:  /run/user/1000/gvfs/smb-share:server=scicore-toucan.scicore.unibas.ch,share=donafl00-calcium$/Users/Rodrigo/DON-006085/20210520/TRD-2P/wheel.npy\n"
     ]
    },
    {
     "name": "stderr",
     "output_type": "stream",
     "text": [
      "100%|█████████████████████████████| 2787808/2787808 [00:10<00:00, 255573.42it/s]\n"
     ]
    },
    {
     "name": "stdout",
     "output_type": "stream",
     "text": [
      "non-zero rotary encoder vals:  [   12883    14329    68791 ... 18227696 18232279 18234883]\n"
     ]
    },
    {
     "name": "stderr",
     "output_type": "stream",
     "text": [
      "100%|█████████████████████████████████| 55152/55152 [00:00<00:00, 120433.46it/s]\n"
     ]
    },
    {
     "name": "stdout",
     "output_type": "stream",
     "text": [
      "vel_times:  [   12883    14329    68791 ... 18227696 18232279 18234883]\n"
     ]
    },
    {
     "name": "stderr",
     "output_type": "stream",
     "text": [
      "refilling stationary times: 100%|█████| 55151/55151 [00:00<00:00, 221627.19it/s]\n"
     ]
    },
    {
     "name": "stdout",
     "output_type": "stream",
     "text": [
      "vel times:  (56639,)\n",
      "vel values:  (56639,) [ 0.00097542 -0.00869044  0.         ...  0.01227185 -0.00274195\n",
      " -0.0048258 ]\n",
      "self.track.galvo_triggers.times:  [   69886    70209    70532 ... 18074532 18074855 18075178]\n",
      "vel_times: [   12883    14329    19329 ... 18227696 18232279 18234883]\n",
      "fname 1:  /run/user/1000/gvfs/smb-share:server=scicore-toucan.scicore.unibas.ch,share=donafl00-calcium$/Users/Rodrigo/DON-006085/20210521/TRD-2P/wheel.npy\n"
     ]
    },
    {
     "name": "stderr",
     "output_type": "stream",
     "text": [
      "100%|█████████████████████████████| 2787724/2787724 [00:10<00:00, 254410.31it/s]\n"
     ]
    },
    {
     "name": "stdout",
     "output_type": "stream",
     "text": [
      "non-zero rotary encoder vals:  [     124      314      499 ... 18260657 18263232 18264121]\n"
     ]
    },
    {
     "name": "stderr",
     "output_type": "stream",
     "text": [
      "100%|█████████████████████████████████| 34791/34791 [00:00<00:00, 117590.39it/s]\n"
     ]
    },
    {
     "name": "stdout",
     "output_type": "stream",
     "text": [
      "vel_times:  [     124      314      499 ... 18260657 18263232 18264121]\n"
     ]
    },
    {
     "name": "stderr",
     "output_type": "stream",
     "text": [
      "refilling stationary times: 100%|█████| 34790/34790 [00:00<00:00, 211400.82it/s]\n"
     ]
    },
    {
     "name": "stdout",
     "output_type": "stream",
     "text": [
      "vel times:  (36831,)\n",
      "vel values:  (36831,) [ 0.1013417   0.06613879  0.06792632 ... -0.01110103  0.00488014\n",
      " -0.0141354 ]\n",
      "self.track.galvo_triggers.times:  [   97714    98037    98360 ... 18102365 18102688 18103011]\n",
      "vel_times: [     124      314      499 ... 18260657 18263232 18264121]\n",
      "fname 1:  /run/user/1000/gvfs/smb-share:server=scicore-toucan.scicore.unibas.ch,share=donafl00-calcium$/Users/Rodrigo/DON-006085/20210522/TRD-2P/wheel.npy\n"
     ]
    },
    {
     "name": "stderr",
     "output_type": "stream",
     "text": [
      "100%|█████████████████████████████| 2787716/2787716 [00:10<00:00, 256018.79it/s]\n"
     ]
    },
    {
     "name": "stdout",
     "output_type": "stream",
     "text": [
      "non-zero rotary encoder vals:  [   33261    34095    46485 ... 18299488 18299701 18299975]\n"
     ]
    },
    {
     "name": "stderr",
     "output_type": "stream",
     "text": [
      "100%|█████████████████████████████████| 50424/50424 [00:00<00:00, 119950.29it/s]\n"
     ]
    },
    {
     "name": "stdout",
     "output_type": "stream",
     "text": [
      "vel_times:  [   33261    34095    46485 ... 18299488 18299701 18299975]\n"
     ]
    },
    {
     "name": "stderr",
     "output_type": "stream",
     "text": [
      "refilling stationary times: 100%|█████| 50423/50423 [00:00<00:00, 220295.48it/s]\n"
     ]
    },
    {
     "name": "stdout",
     "output_type": "stream",
     "text": [
      "vel times:  (51885,)\n",
      "vel values:  (51885,) [-0.00037781  0.01506759  0.         ...  0.06942746  0.05899705\n",
      "  0.04586267]\n",
      "self.track.galvo_triggers.times:  [   62218    62541    62864 ... 18066136 18066459 18066782]\n",
      "vel_times: [   33261    34095    39095 ... 18299488 18299701 18299975]\n",
      "fname 1:  /run/user/1000/gvfs/smb-share:server=scicore-toucan.scicore.unibas.ch,share=donafl00-calcium$/Users/Rodrigo/DON-006085/20210523/TRD-2P/wheel.npy\n"
     ]
    },
    {
     "name": "stderr",
     "output_type": "stream",
     "text": [
      "100%|█████████████████████████████| 2787742/2787742 [00:10<00:00, 256814.45it/s]\n"
     ]
    },
    {
     "name": "stdout",
     "output_type": "stream",
     "text": [
      "non-zero rotary encoder vals:  [     885     1801     3474 ... 18282430 18284016 18285484]\n"
     ]
    },
    {
     "name": "stderr",
     "output_type": "stream",
     "text": [
      "100%|█████████████████████████████████| 34738/34738 [00:00<00:00, 117178.49it/s]\n"
     ]
    },
    {
     "name": "stdout",
     "output_type": "stream",
     "text": [
      "vel_times:  [     885     1801     3474 ... 18282430 18284016 18285484]\n"
     ]
    },
    {
     "name": "stderr",
     "output_type": "stream",
     "text": [
      "refilling stationary times: 100%|█████| 34737/34737 [00:00<00:00, 214671.49it/s]\n"
     ]
    },
    {
     "name": "stdout",
     "output_type": "stream",
     "text": [
      "vel times:  (36155,)\n",
      "vel values:  (36155,) [-0.01419929  0.01371875 -0.00751128 ...  0.00576439 -0.00792331\n",
      "  0.0085602 ]\n",
      "self.track.galvo_triggers.times:  [   66172    66495    66818 ... 18070671 18070994 18071317]\n",
      "vel_times: [     885     1801     3474 ... 18282430 18284016 18285484]\n",
      "fname 1:  /run/user/1000/gvfs/smb-share:server=scicore-toucan.scicore.unibas.ch,share=donafl00-calcium$/Users/Rodrigo/DON-006085/20210524/TRD-2P/wheel.npy\n"
     ]
    },
    {
     "name": "stderr",
     "output_type": "stream",
     "text": [
      "100%|█████████████████████████████| 2787773/2787773 [00:10<00:00, 255454.91it/s]\n"
     ]
    },
    {
     "name": "stdout",
     "output_type": "stream",
     "text": [
      "non-zero rotary encoder vals:  [  157268   157631   157943 ... 18298750 18299144 18299946]\n"
     ]
    },
    {
     "name": "stderr",
     "output_type": "stream",
     "text": [
      "100%|█████████████████████████████████| 40187/40187 [00:00<00:00, 117469.32it/s]\n"
     ]
    },
    {
     "name": "stdout",
     "output_type": "stream",
     "text": [
      "vel_times:  [  157268   157631   157943 ... 18298750 18299144 18299946]\n"
     ]
    },
    {
     "name": "stderr",
     "output_type": "stream",
     "text": [
      "refilling stationary times: 100%|█████| 40186/40186 [00:00<00:00, 214789.09it/s]\n"
     ]
    },
    {
     "name": "stdout",
     "output_type": "stream",
     "text": [
      "vel times:  (41778,)\n",
      "vel values:  (41778,) [7.99041809e-05 3.46181020e-02 4.02768292e-02 ... 4.33323123e-02\n",
      " 3.18943411e-02 1.56687908e-02]\n",
      "self.track.galvo_triggers.times:  [  105217   105540   105863 ... 18108748 18109071 18109394]\n",
      "vel_times: [  157268   157631   157943 ... 18298750 18299144 18299946]\n",
      "fname 1:  /run/user/1000/gvfs/smb-share:server=scicore-toucan.scicore.unibas.ch,share=donafl00-calcium$/Users/Rodrigo/DON-006085/20210525/TRD-2P/wheel.npy\n"
     ]
    },
    {
     "name": "stderr",
     "output_type": "stream",
     "text": [
      "100%|█████████████████████████████| 2787814/2787814 [00:10<00:00, 254968.12it/s]\n"
     ]
    },
    {
     "name": "stdout",
     "output_type": "stream",
     "text": [
      "non-zero rotary encoder vals:  [    3421     5512    17263 ... 18233224 18238622 18239155]\n"
     ]
    },
    {
     "name": "stderr",
     "output_type": "stream",
     "text": [
      "100%|█████████████████████████████████| 24852/24852 [00:00<00:00, 114755.19it/s]\n"
     ]
    },
    {
     "name": "stdout",
     "output_type": "stream",
     "text": [
      "vel_times:  [    3421     5512    17263 ... 18233224 18238622 18239155]\n"
     ]
    },
    {
     "name": "stderr",
     "output_type": "stream",
     "text": [
      "refilling stationary times: 100%|█████| 24851/24851 [00:00<00:00, 200073.03it/s]\n"
     ]
    },
    {
     "name": "stdout",
     "output_type": "stream",
     "text": [
      "vel times:  (26833,)\n",
      "vel values:  (26833,) [-0.0036733   0.00600974  0.         ...  0.01596743  0.\n",
      "  0.02357668]\n",
      "self.track.galvo_triggers.times:  [   72041    72364    72687 ... 18076688 18077011 18077334]\n",
      "vel_times: [    3421     5512    10512 ... 18233224 18238224 18239155]\n",
      "fname 1:  /run/user/1000/gvfs/smb-share:server=scicore-toucan.scicore.unibas.ch,share=donafl00-calcium$/Users/Rodrigo/DON-006085/20210526/TRD-2P/wheel.npy\n"
     ]
    },
    {
     "name": "stderr",
     "output_type": "stream",
     "text": [
      "100%|█████████████████████████████| 2787836/2787836 [00:10<00:00, 255004.38it/s]\n"
     ]
    },
    {
     "name": "stdout",
     "output_type": "stream",
     "text": [
      "non-zero rotary encoder vals:  [   48853    49420    68519 ... 18295068 18295469 18296711]\n"
     ]
    },
    {
     "name": "stderr",
     "output_type": "stream",
     "text": [
      "100%|█████████████████████████████████| 25793/25793 [00:00<00:00, 114328.38it/s]\n"
     ]
    },
    {
     "name": "stdout",
     "output_type": "stream",
     "text": [
      "vel_times:  [   48853    49420    68519 ... 18295068 18295469 18296711]\n"
     ]
    },
    {
     "name": "stderr",
     "output_type": "stream",
     "text": [
      "refilling stationary times: 100%|█████| 25792/25792 [00:00<00:00, 200475.32it/s]\n"
     ]
    },
    {
     "name": "stdout",
     "output_type": "stream",
     "text": [
      "vel times:  (27916,)\n",
      "vel values:  (27916,) [-0.00025723  0.02216291  0.         ...  0.04536596  0.03133758\n",
      " -0.01011785]\n",
      "self.track.galvo_triggers.times:  [   69467    69790    70113 ... 18073975 18074298 18074621]\n",
      "vel_times: [   48853    49420    54420 ... 18295068 18295469 18296711]\n",
      "fname 1:  /run/user/1000/gvfs/smb-share:server=scicore-toucan.scicore.unibas.ch,share=donafl00-calcium$/Users/Rodrigo/DON-006085/20210527/TRD-2P/wheel.npy\n"
     ]
    },
    {
     "name": "stderr",
     "output_type": "stream",
     "text": [
      "100%|█████████████████████████████| 2787785/2787785 [00:11<00:00, 252328.84it/s]\n"
     ]
    },
    {
     "name": "stdout",
     "output_type": "stream",
     "text": [
      "non-zero rotary encoder vals:  [    3813     4475     4842 ... 18299831 18299898 18299965]\n"
     ]
    },
    {
     "name": "stderr",
     "output_type": "stream",
     "text": [
      "100%|█████████████████████████████████| 51062/51062 [00:00<00:00, 120496.38it/s]\n"
     ]
    },
    {
     "name": "stdout",
     "output_type": "stream",
     "text": [
      "vel_times:  [    3812     4475     4842 ... 18299831 18299898 18299965]\n"
     ]
    },
    {
     "name": "stderr",
     "output_type": "stream",
     "text": [
      "refilling stationary times: 100%|█████| 51061/51061 [00:00<00:00, 220830.69it/s]\n"
     ]
    },
    {
     "name": "stdout",
     "output_type": "stream",
     "text": [
      "vel times:  (52410,)\n",
      "vel values:  (52410,) [0.00329566 0.01898243 0.03424079 ... 0.18755777 0.18755777 0.18755777]\n",
      "self.track.galvo_triggers.times:  [   57078    57401    57724 ... 18061634 18061957 18062280]\n",
      "vel_times: [    3812     4475     4842 ... 18299831 18299898 18299965]\n",
      "fname 1:  /run/user/1000/gvfs/smb-share:server=scicore-toucan.scicore.unibas.ch,share=donafl00-calcium$/Users/Rodrigo/DON-006085/20210528/TRD-2P/wheel.npy\n"
     ]
    },
    {
     "name": "stderr",
     "output_type": "stream",
     "text": [
      "100%|█████████████████████████████| 2787764/2787764 [00:10<00:00, 255498.53it/s]\n"
     ]
    },
    {
     "name": "stdout",
     "output_type": "stream",
     "text": [
      "non-zero rotary encoder vals:  [     348     1203     1627 ... 18279782 18281598 18282940]\n"
     ]
    },
    {
     "name": "stderr",
     "output_type": "stream",
     "text": [
      "100%|█████████████████████████████████| 33548/33548 [00:00<00:00, 118376.23it/s]\n"
     ]
    },
    {
     "name": "stdout",
     "output_type": "stream",
     "text": [
      "vel_times:  [     348     1203     1627 ... 18279782 18281598 18282940]\n"
     ]
    },
    {
     "name": "stderr",
     "output_type": "stream",
     "text": [
      "refilling stationary times: 100%|█████| 33547/33547 [00:00<00:00, 212722.43it/s]\n"
     ]
    },
    {
     "name": "stdout",
     "output_type": "stream",
     "text": [
      "vel times:  (35378,)\n",
      "vel values:  (35378,) [ 0.03611026  0.01469751 -0.02963767 ...  0.02607131  0.00691981\n",
      " -0.00936391]\n",
      "self.track.galvo_triggers.times:  [   70123    70446    70769 ... 18074497 18074820 18075143]\n",
      "vel_times: [     348     1203     1627 ... 18279782 18281598 18282940]\n",
      "fname 1:  /run/user/1000/gvfs/smb-share:server=scicore-toucan.scicore.unibas.ch,share=donafl00-calcium$/Users/Rodrigo/DON-006087/20210524/TRD-2P/wheel.npy\n"
     ]
    },
    {
     "name": "stderr",
     "output_type": "stream",
     "text": [
      "100%|█████████████████████████████| 2787756/2787756 [00:10<00:00, 254163.39it/s]\n"
     ]
    },
    {
     "name": "stdout",
     "output_type": "stream",
     "text": [
      "non-zero rotary encoder vals:  [   14166    16162    16685 ... 18299394 18299635 18299897]\n"
     ]
    },
    {
     "name": "stderr",
     "output_type": "stream",
     "text": [
      "100%|█████████████████████████████████| 20758/20758 [00:00<00:00, 115106.60it/s]\n"
     ]
    },
    {
     "name": "stdout",
     "output_type": "stream",
     "text": [
      "vel_times:  [   14166    16162    16685 ... 18299394 18299635 18299897]\n"
     ]
    },
    {
     "name": "stderr",
     "output_type": "stream",
     "text": [
      "refilling stationary times: 100%|█████| 20757/20757 [00:00<00:00, 194036.71it/s]\n"
     ]
    },
    {
     "name": "stdout",
     "output_type": "stream",
     "text": [
      "vel times:  (23068,)\n",
      "vel values:  (23068,) [-0.00088708  0.00629578  0.02402748 ...  0.05899705  0.05214262\n",
      "  0.04796325]\n",
      "self.track.galvo_triggers.times:  [   53935    54258    54581 ... 18058552 18058875 18059199]\n",
      "vel_times: [   14166    16162    16685 ... 18299394 18299635 18299897]\n",
      "fname 1:  /run/user/1000/gvfs/smb-share:server=scicore-toucan.scicore.unibas.ch,share=donafl00-calcium$/Users/Rodrigo/DON-006087/20210525/TRD-2P/wheel.npy\n"
     ]
    },
    {
     "name": "stderr",
     "output_type": "stream",
     "text": [
      "100%|█████████████████████████████| 2787821/2787821 [00:10<00:00, 255380.16it/s]\n"
     ]
    },
    {
     "name": "stdout",
     "output_type": "stream",
     "text": [
      "non-zero rotary encoder vals:  [      74      193      307 ... 18251177 18279966 18282594]\n"
     ]
    },
    {
     "name": "stderr",
     "output_type": "stream",
     "text": [
      "100%|█████████████████████████████████| 16567/16567 [00:00<00:00, 109936.18it/s]\n"
     ]
    },
    {
     "name": "stdout",
     "output_type": "stream",
     "text": [
      "vel_times:  [      74      193      307 ... 18251177 18279966 18282594]\n"
     ]
    },
    {
     "name": "stderr",
     "output_type": "stream",
     "text": [
      "refilling stationary times: 100%|█████| 16566/16566 [00:00<00:00, 181979.43it/s]"
     ]
    },
    {
     "name": "stdout",
     "output_type": "stream",
     "text": [
      "vel times:  (18541,)\n",
      "vel values:  (18541,) [0.16981582 0.10559975 0.11023132 ... 0.         0.         0.00478172]\n",
      "self.track.galvo_triggers.times:  [   62118    62441    62764 ... 18066683 18067006 18067329]\n",
      "vel_times: [      74      193      307 ... 18271177 18276177 18282594]\n"
     ]
    },
    {
     "name": "stderr",
     "output_type": "stream",
     "text": [
      "\n"
     ]
    },
    {
     "name": "stdout",
     "output_type": "stream",
     "text": [
      "fname 1:  /run/user/1000/gvfs/smb-share:server=scicore-toucan.scicore.unibas.ch,share=donafl00-calcium$/Users/Rodrigo/DON-006087/20210526/TRD-2P/wheel.npy\n"
     ]
    },
    {
     "name": "stderr",
     "output_type": "stream",
     "text": [
      "100%|█████████████████████████████| 2787809/2787809 [00:10<00:00, 255041.53it/s]\n"
     ]
    },
    {
     "name": "stdout",
     "output_type": "stream",
     "text": [
      "non-zero rotary encoder vals:  [    1178     1887     3098 ... 18298866 18299362 18299775]\n"
     ]
    },
    {
     "name": "stderr",
     "output_type": "stream",
     "text": [
      "100%|█████████████████████████████████| 10583/10583 [00:00<00:00, 100531.14it/s]\n"
     ]
    },
    {
     "name": "stdout",
     "output_type": "stream",
     "text": [
      "vel_times:  [    1178     1887     3098 ... 18298866 18299362 18299775]\n"
     ]
    },
    {
     "name": "stderr",
     "output_type": "stream",
     "text": [
      "refilling stationary times: 100%|█████| 10582/10582 [00:00<00:00, 179036.11it/s]\n"
     ]
    },
    {
     "name": "stdout",
     "output_type": "stream",
     "text": [
      "vel times:  (13031,)\n",
      "vel values:  (13031,) [ 0.01066755 -0.01772408  0.01037685 ...  0.02749753  0.02533543\n",
      "  0.03042705]\n",
      "self.track.galvo_triggers.times:  [   53621    53944    54267 ... 18057604 18057927 18058250]\n",
      "vel_times: [    1178     1887     3098 ... 18298866 18299362 18299775]\n",
      "fname 1:  /run/user/1000/gvfs/smb-share:server=scicore-toucan.scicore.unibas.ch,share=donafl00-calcium$/Users/Rodrigo/DON-006087/20210527/TRD-2P/wheel.npy\n"
     ]
    },
    {
     "name": "stderr",
     "output_type": "stream",
     "text": [
      "100%|█████████████████████████████| 2787755/2787755 [00:10<00:00, 255456.17it/s]\n"
     ]
    },
    {
     "name": "stdout",
     "output_type": "stream",
     "text": [
      "non-zero rotary encoder vals:  [      17       76      135 ... 18299471 18299641 18299837]\n"
     ]
    },
    {
     "name": "stderr",
     "output_type": "stream",
     "text": [
      "100%|█████████████████████████████████| 23098/23098 [00:00<00:00, 115721.59it/s]\n"
     ]
    },
    {
     "name": "stdout",
     "output_type": "stream",
     "text": [
      "vel_times:  [      17       76      135 ... 18299471 18299641 18299837]\n"
     ]
    },
    {
     "name": "stderr",
     "output_type": "stream",
     "text": [
      "refilling stationary times: 100%|█████| 23097/23097 [00:00<00:00, 198223.20it/s]\n"
     ]
    },
    {
     "name": "stdout",
     "output_type": "stream",
     "text": [
      "vel times:  (25382,)\n",
      "vel values:  (25382,) [0.73919827 0.21298933 0.21298933 ... 0.08159981 0.07391983 0.06411414]\n",
      "self.track.galvo_triggers.times:  [   70045    70368    70691 ... 18074514 18074837 18075160]\n",
      "vel_times: [      17       76      135 ... 18299471 18299641 18299837]\n",
      "fname 1:  /run/user/1000/gvfs/smb-share:server=scicore-toucan.scicore.unibas.ch,share=donafl00-calcium$/Users/Rodrigo/DON-006087/20210528/TRD-2P/wheel.npy\n"
     ]
    },
    {
     "name": "stderr",
     "output_type": "stream",
     "text": [
      "100%|█████████████████████████████| 2787803/2787803 [00:10<00:00, 255922.77it/s]\n"
     ]
    },
    {
     "name": "stdout",
     "output_type": "stream",
     "text": [
      "non-zero rotary encoder vals:  [     147      442      952 ... 18176519 18177093 18182942]\n"
     ]
    },
    {
     "name": "stderr",
     "output_type": "stream",
     "text": [
      "100%|█████████████████████████████████| 11688/11688 [00:00<00:00, 103987.26it/s]\n"
     ]
    },
    {
     "name": "stdout",
     "output_type": "stream",
     "text": [
      "vel_times:  [     147      442      952 ... 18176519 18177093 18182942]\n"
     ]
    },
    {
     "name": "stderr",
     "output_type": "stream",
     "text": [
      "refilling stationary times: 100%|█████| 11687/11687 [00:00<00:00, 181917.08it/s]\n"
     ]
    },
    {
     "name": "stdout",
     "output_type": "stream",
     "text": [
      "vel times:  (13995,)\n",
      "vel values:  (13995,) [ 0.08548552  0.04259787  0.02463994 ...  0.01774911 -0.02189263\n",
      "  0.        ]\n",
      "self.track.galvo_triggers.times:  [   44234    44557    44879 ... 18048810 18049133 18049456]\n",
      "vel_times: [     147      442      952 ... 18176519 18177093 18182093]\n",
      "fname 1:  /run/user/1000/gvfs/smb-share:server=scicore-toucan.scicore.unibas.ch,share=donafl00-calcium$/Users/Rodrigo/DON-006087/20210529/TRD-2P/wheel.npy\n"
     ]
    },
    {
     "name": "stderr",
     "output_type": "stream",
     "text": [
      "100%|█████████████████████████████| 2787696/2787696 [00:10<00:00, 255377.77it/s]\n"
     ]
    },
    {
     "name": "stdout",
     "output_type": "stream",
     "text": [
      "non-zero rotary encoder vals:  [     313     1098     1594 ... 18299871 18299933 18299996]\n"
     ]
    },
    {
     "name": "stderr",
     "output_type": "stream",
     "text": [
      "100%|███████████████████████████████| 138118/138118 [00:01<00:00, 124519.38it/s]\n"
     ]
    },
    {
     "name": "stdout",
     "output_type": "stream",
     "text": [
      "vel_times:  [     313     1098     1593 ... 18299871 18299933 18299996]\n"
     ]
    },
    {
     "name": "stderr",
     "output_type": "stream",
     "text": [
      "refilling stationary times: 100%|███| 138117/138117 [00:00<00:00, 235918.10it/s]\n"
     ]
    },
    {
     "name": "stdout",
     "output_type": "stream",
     "text": [
      "vel times:  (138682,)\n",
      "vel values:  (138682,) [0.04014815 0.01600812 0.02533543 ... 0.2026834  0.2026834  0.1994662 ]\n",
      "self.track.galvo_triggers.times:  [   78893    79216    79539 ... 18082925 18083248 18083571]\n",
      "vel_times: [     313     1098     1593 ... 18299871 18299933 18299996]\n",
      "fname 1:  /run/user/1000/gvfs/smb-share:server=scicore-toucan.scicore.unibas.ch,share=donafl00-calcium$/Users/Rodrigo/DON-006087/20210530/TRD-2P/wheel.npy\n"
     ]
    },
    {
     "name": "stderr",
     "output_type": "stream",
     "text": [
      "100%|█████████████████████████████| 2787809/2787809 [00:10<00:00, 255987.61it/s]\n"
     ]
    },
    {
     "name": "stdout",
     "output_type": "stream",
     "text": [
      "non-zero rotary encoder vals:  [      16       75      133 ... 18299826 18299884 18299944]\n"
     ]
    },
    {
     "name": "stderr",
     "output_type": "stream",
     "text": [
      "100%|███████████████████████████████| 336587/336587 [00:02<00:00, 130340.60it/s]\n"
     ]
    },
    {
     "name": "stdout",
     "output_type": "stream",
     "text": [
      "vel_times:  [      16       75      133 ... 18299826 18299884 18299944]\n"
     ]
    },
    {
     "name": "stderr",
     "output_type": "stream",
     "text": [
      "refilling stationary times: 100%|███| 336586/336586 [00:01<00:00, 251462.92it/s]\n"
     ]
    },
    {
     "name": "stdout",
     "output_type": "stream",
     "text": [
      "vel times:  (336597,)\n",
      "vel values:  (336597,) [0.78539819 0.21298933 0.21666156 ... 0.20943952 0.21666156 0.20943952]\n",
      "self.track.galvo_triggers.times:  [   57785    58108    58431 ... 18061524 18061847 18062170]\n",
      "vel_times: [      16       75      133 ... 18299826 18299884 18299944]\n",
      "fname 1:  /run/user/1000/gvfs/smb-share:server=scicore-toucan.scicore.unibas.ch,share=donafl00-calcium$/Users/Rodrigo/DON-006087/20210531/TRD-2P/wheel.npy\n"
     ]
    },
    {
     "name": "stderr",
     "output_type": "stream",
     "text": [
      "100%|█████████████████████████████| 2787794/2787794 [00:10<00:00, 255875.00it/s]\n"
     ]
    },
    {
     "name": "stdout",
     "output_type": "stream",
     "text": [
      "non-zero rotary encoder vals:  [      76      166      259 ... 18299764 18299852 18299939]\n"
     ]
    },
    {
     "name": "stderr",
     "output_type": "stream",
     "text": [
      "100%|███████████████████████████████| 316674/316674 [00:02<00:00, 130499.59it/s]\n"
     ]
    },
    {
     "name": "stdout",
     "output_type": "stream",
     "text": [
      "vel_times:  [      76      166      259 ... 18299764 18299852 18299939]\n"
     ]
    },
    {
     "name": "stderr",
     "output_type": "stream",
     "text": [
      "refilling stationary times: 100%|███| 316673/316673 [00:01<00:00, 250033.95it/s]\n"
     ]
    },
    {
     "name": "stdout",
     "output_type": "stream",
     "text": [
      "vel times:  (316681,)\n",
      "vel values:  (316681,) [0.16534698 0.13962634 0.13512227 ... 0.13659099 0.14279966 0.14444104]\n",
      "self.track.galvo_triggers.times:  [   64873    65196    65519 ... 18068894 18069217 18069540]\n",
      "vel_times: [      76      166      259 ... 18299764 18299852 18299939]\n",
      "fname 1:  /run/user/1000/gvfs/smb-share:server=scicore-toucan.scicore.unibas.ch,share=donafl00-calcium$/Users/Rodrigo/DON-006087/20210601/TRD-2P/wheel.npy\n"
     ]
    },
    {
     "name": "stderr",
     "output_type": "stream",
     "text": [
      "100%|█████████████████████████████| 2787809/2787809 [00:10<00:00, 255427.39it/s]\n"
     ]
    },
    {
     "name": "stdout",
     "output_type": "stream",
     "text": [
      "non-zero rotary encoder vals:  [      36       91      143 ... 18299899 18299939 18299979]\n"
     ]
    },
    {
     "name": "stderr",
     "output_type": "stream",
     "text": [
      "100%|███████████████████████████████| 369379/369379 [00:02<00:00, 130845.12it/s]\n"
     ]
    },
    {
     "name": "stdout",
     "output_type": "stream",
     "text": [
      "vel_times:  [      36       91      143 ... 18299899 18299939 18299979]\n"
     ]
    },
    {
     "name": "stderr",
     "output_type": "stream",
     "text": [
      "refilling stationary times: 100%|███| 369378/369378 [00:01<00:00, 250827.12it/s]\n"
     ]
    },
    {
     "name": "stdout",
     "output_type": "stream",
     "text": [
      "vel times:  (369386,)\n",
      "vel values:  (369386,) [0.34906584 0.22847946 0.24166097 ... 0.31415927 0.31415927 0.31415927]\n",
      "self.track.galvo_triggers.times:  [   60891    61214    61537 ... 18065447 18065770 18066093]\n",
      "vel_times: [      36       91      143 ... 18299899 18299939 18299979]\n",
      "fname 1:  /run/user/1000/gvfs/smb-share:server=scicore-toucan.scicore.unibas.ch,share=donafl00-calcium$/Users/Rodrigo/DON-006087/20210602/TRD-2P/wheel.npy\n"
     ]
    },
    {
     "name": "stderr",
     "output_type": "stream",
     "text": [
      "100%|█████████████████████████████| 2787814/2787814 [00:10<00:00, 254953.45it/s]\n"
     ]
    },
    {
     "name": "stdout",
     "output_type": "stream",
     "text": [
      "non-zero rotary encoder vals:  [      64      131      197 ... 18299919 18299952 18299986]\n"
     ]
    },
    {
     "name": "stderr",
     "output_type": "stream",
     "text": [
      "100%|███████████████████████████████| 388094/388094 [00:02<00:00, 129539.12it/s]\n"
     ]
    },
    {
     "name": "stdout",
     "output_type": "stream",
     "text": [
      "vel_times:  [      64      131      197 ... 18299919 18299952 18299986]\n"
     ]
    },
    {
     "name": "stderr",
     "output_type": "stream",
     "text": [
      "refilling stationary times: 100%|███| 388093/388093 [00:01<00:00, 253160.78it/s]\n"
     ]
    },
    {
     "name": "stdout",
     "output_type": "stream",
     "text": [
      "vel times:  (388099,)\n",
      "vel values:  (388099,) [0.19634955 0.18755777 0.19039956 ... 0.36959913 0.38079911 0.36959913]\n",
      "self.track.galvo_triggers.times:  [   71916    72239    72562 ... 18076396 18076719 18077042]\n",
      "vel_times: [      64      131      197 ... 18299919 18299952 18299986]\n",
      "fname 1:  /run/user/1000/gvfs/smb-share:server=scicore-toucan.scicore.unibas.ch,share=donafl00-calcium$/Users/Rodrigo/DON-008497/20220130/TRD-2P/wheel.npy\n"
     ]
    },
    {
     "name": "stderr",
     "output_type": "stream",
     "text": [
      "100%|█████████████████████████████| 2788100/2788100 [00:10<00:00, 255640.49it/s]\n"
     ]
    },
    {
     "name": "stdout",
     "output_type": "stream",
     "text": [
      "non-zero rotary encoder vals:  [     904     1258     1453 ... 18280019 18283014 18289855]\n"
     ]
    },
    {
     "name": "stderr",
     "output_type": "stream",
     "text": [
      "100%|████████████████████████████████████| 5660/5660 [00:00<00:00, 95809.06it/s]\n"
     ]
    },
    {
     "name": "stdout",
     "output_type": "stream",
     "text": [
      "vel_times:  [     903     1258     1453 ... 18280019 18283014 18289855]\n"
     ]
    },
    {
     "name": "stderr",
     "output_type": "stream",
     "text": [
      "refilling stationary times: 100%|███████| 5659/5659 [00:00<00:00, 156408.18it/s]\n"
     ]
    },
    {
     "name": "stdout",
     "output_type": "stream",
     "text": [
      "vel times:  (8053,)\n",
      "vel values:  (8053,) [0.01390085 0.03549822 0.06444293 ... 0.02651133 0.00419578 0.        ]\n",
      "self.track.galvo_triggers.times:  [   84911    85234    85556 ... 18092216 18092539 18092862]\n",
      "vel_times: [     903     1258     1453 ... 18280019 18283014 18288014]\n",
      "fname 1:  /run/user/1000/gvfs/smb-share:server=scicore-toucan.scicore.unibas.ch,share=donafl00-calcium$/Users/Rodrigo/DON-008497/20220131/TRD-2P/wheel.npy\n"
     ]
    },
    {
     "name": "stderr",
     "output_type": "stream",
     "text": [
      "100%|█████████████████████████████| 2788077/2788077 [00:10<00:00, 254598.99it/s]\n"
     ]
    },
    {
     "name": "stdout",
     "output_type": "stream",
     "text": [
      "non-zero rotary encoder vals:  [    3069     3986     4728 ... 18275554 18276764 18289251]\n"
     ]
    },
    {
     "name": "stderr",
     "output_type": "stream",
     "text": [
      "100%|████████████████████████████████████| 3402/3402 [00:00<00:00, 92619.90it/s]\n"
     ]
    },
    {
     "name": "stdout",
     "output_type": "stream",
     "text": [
      "vel_times:  [    3069     3986     4728 ... 18275554 18276764 18289251]\n"
     ]
    },
    {
     "name": "stderr",
     "output_type": "stream",
     "text": [
      "refilling stationary times: 100%|███████| 3401/3401 [00:00<00:00, 148164.44it/s]\n"
     ]
    },
    {
     "name": "stdout",
     "output_type": "stream",
     "text": [
      "vel times:  (6155,)\n",
      "vel values:  (6155,) [ 0.00409461  0.01370378 -0.01693581 ...  0.01038543  0.\n",
      "  0.        ]\n",
      "self.track.galvo_triggers.times:  [   82375    82698    83021 ... 18089799 18090122 18090445]\n",
      "vel_times: [    3069     3986     4728 ... 18276764 18281764 18286764]\n",
      "fname 1:  /run/user/1000/gvfs/smb-share:server=scicore-toucan.scicore.unibas.ch,share=donafl00-calcium$/Users/Rodrigo/DON-008497/20220201/TRD-2P/wheel.npy\n"
     ]
    },
    {
     "name": "stderr",
     "output_type": "stream",
     "text": [
      "100%|█████████████████████████████| 2788037/2788037 [00:10<00:00, 254728.64it/s]\n"
     ]
    },
    {
     "name": "stdout",
     "output_type": "stream",
     "text": [
      "non-zero rotary encoder vals:  [   33938    34593    36504 ... 18298917 18299506 18299950]\n"
     ]
    },
    {
     "name": "stderr",
     "output_type": "stream",
     "text": [
      "100%|████████████████████████████████████| 7591/7591 [00:00<00:00, 97251.46it/s]\n"
     ]
    },
    {
     "name": "stdout",
     "output_type": "stream",
     "text": [
      "vel_times:  [   33938    34593    36504 ... 18298917 18299506 18299950]\n"
     ]
    },
    {
     "name": "stderr",
     "output_type": "stream",
     "text": [
      "refilling stationary times: 100%|███████| 7590/7590 [00:00<00:00, 172302.42it/s]\n"
     ]
    },
    {
     "name": "stdout",
     "output_type": "stream",
     "text": [
      "vel times:  (10055,)\n",
      "vel values:  (10055,) [ 0.00037027 -0.0191853   0.00657581 ...  0.03939301  0.0213351\n",
      "  0.02830264]\n",
      "self.track.galvo_triggers.times:  [  203622   203945   204268 ... 18209817 18210141 18210464]\n",
      "vel_times: [   33938    34593    36504 ... 18298917 18299506 18299950]\n",
      "fname 1:  /run/user/1000/gvfs/smb-share:server=scicore-toucan.scicore.unibas.ch,share=donafl00-calcium$/Users/Rodrigo/DON-008497/20220202/TRD-2P/wheel.npy\n"
     ]
    },
    {
     "name": "stderr",
     "output_type": "stream",
     "text": [
      "100%|█████████████████████████████| 2788010/2788010 [00:11<00:00, 252977.89it/s]\n"
     ]
    },
    {
     "name": "stdout",
     "output_type": "stream",
     "text": [
      "non-zero rotary encoder vals:  [   14406    14986    15289 ... 18298114 18298922 18299664]\n"
     ]
    },
    {
     "name": "stderr",
     "output_type": "stream",
     "text": [
      "100%|███████████████████████████████████| 7893/7893 [00:00<00:00, 103080.18it/s]\n"
     ]
    },
    {
     "name": "stdout",
     "output_type": "stream",
     "text": [
      "vel_times:  [   14406    14986    15289 ... 18298114 18298922 18299664]\n"
     ]
    },
    {
     "name": "stderr",
     "output_type": "stream",
     "text": [
      "refilling stationary times: 100%|███████| 7892/7892 [00:00<00:00, 168071.16it/s]\n"
     ]
    },
    {
     "name": "stdout",
     "output_type": "stream",
     "text": [
      "vel times:  (10475,)\n",
      "vel values:  (10475,) [-0.0008723  -0.02166616 -0.04147317 ... -0.00810211  0.01555244\n",
      "  0.01693581]\n",
      "self.track.galvo_triggers.times:  [  102115   102438   102761 ... 18109257 18109580 18109903]\n",
      "vel_times: [   14406    14986    15289 ... 18298114 18298922 18299664]\n",
      "fname 1:  /run/user/1000/gvfs/smb-share:server=scicore-toucan.scicore.unibas.ch,share=donafl00-calcium$/Users/Rodrigo/DON-008497/20220203/TRD-2P/wheel.npy\n"
     ]
    },
    {
     "name": "stderr",
     "output_type": "stream",
     "text": [
      "100%|█████████████████████████████| 2788055/2788055 [00:10<00:00, 255946.63it/s]\n"
     ]
    },
    {
     "name": "stdout",
     "output_type": "stream",
     "text": [
      "non-zero rotary encoder vals:  [   41802    42140    42443 ... 18120213 18121282 18132502]\n"
     ]
    },
    {
     "name": "stderr",
     "output_type": "stream",
     "text": [
      "100%|███████████████████████████████████| 8680/8680 [00:00<00:00, 103721.50it/s]\n"
     ]
    },
    {
     "name": "stdout",
     "output_type": "stream",
     "text": [
      "vel_times:  [   41802    42140    42443 ... 18120213 18121282 18132502]\n"
     ]
    },
    {
     "name": "stderr",
     "output_type": "stream",
     "text": [
      "refilling stationary times: 100%|███████| 8679/8679 [00:00<00:00, 173955.92it/s]\n"
     ]
    },
    {
     "name": "stdout",
     "output_type": "stream",
     "text": [
      "vel times:  (11200,)\n",
      "vel values:  (11200,) [-0.00030062 -0.03717861 -0.04147317 ... -0.01175526  0.\n",
      "  0.        ]\n",
      "self.track.galvo_triggers.times:  [   99343    99666    99989 ... 18106039 18106362 18106686]\n",
      "vel_times: [   41802    42140    42443 ... 18121282 18126282 18131282]\n",
      "fname 1:  /run/user/1000/gvfs/smb-share:server=scicore-toucan.scicore.unibas.ch,share=donafl00-calcium$/Users/Rodrigo/DON-008497/20220204/TRD-2P/wheel.npy\n"
     ]
    },
    {
     "name": "stderr",
     "output_type": "stream",
     "text": [
      "100%|█████████████████████████████| 2788015/2788015 [00:10<00:00, 256483.71it/s]\n"
     ]
    },
    {
     "name": "stdout",
     "output_type": "stream",
     "text": [
      "non-zero rotary encoder vals:  [   17195    17792    19464 ... 18258569 18259311 18277630]\n"
     ]
    },
    {
     "name": "stderr",
     "output_type": "stream",
     "text": [
      "100%|█████████████████████████████████| 22850/22850 [00:00<00:00, 112775.18it/s]\n"
     ]
    },
    {
     "name": "stdout",
     "output_type": "stream",
     "text": [
      "vel_times:  [   17195    17792    19464 ... 18258569 18259311 18277630]\n"
     ]
    },
    {
     "name": "stderr",
     "output_type": "stream",
     "text": [
      "refilling stationary times: 100%|█████| 22849/22849 [00:00<00:00, 195421.84it/s]\n"
     ]
    },
    {
     "name": "stdout",
     "output_type": "stream",
     "text": [
      "vel times:  (24759,)\n",
      "vel values:  (24759,) [ 0.00073082 -0.0210492  -0.00751577 ...  0.          0.\n",
      "  0.        ]\n",
      "self.track.galvo_triggers.times:  [   83568    83891    84214 ... 18090564 18090887 18091210]\n",
      "vel_times: [   17195    17792    19464 ... 18264311 18269311 18274311]\n",
      "fname 1:  /run/user/1000/gvfs/smb-share:server=scicore-toucan.scicore.unibas.ch,share=donafl00-calcium$/Users/Rodrigo/DON-008497/20220205/TRD-2P/wheel.npy\n"
     ]
    },
    {
     "name": "stderr",
     "output_type": "stream",
     "text": [
      "100%|█████████████████████████████| 2788017/2788017 [00:11<00:00, 241169.74it/s]\n"
     ]
    },
    {
     "name": "stdout",
     "output_type": "stream",
     "text": [
      "non-zero rotary encoder vals:  [    5678     7062    22604 ... 18277963 18283992 18285886]\n"
     ]
    },
    {
     "name": "stderr",
     "output_type": "stream",
     "text": [
      "100%|██████████████████████████████████| 13752/13752 [00:00<00:00, 97507.99it/s]\n"
     ]
    },
    {
     "name": "stdout",
     "output_type": "stream",
     "text": [
      "vel_times:  [    5678     7062    22604 ... 18277963 18283992 18285886]\n"
     ]
    },
    {
     "name": "stderr",
     "output_type": "stream",
     "text": [
      "refilling stationary times: 100%|█████| 13751/13751 [00:00<00:00, 173714.66it/s]"
     ]
    },
    {
     "name": "stdout",
     "output_type": "stream",
     "text": [
      "vel times:  (16154,)\n",
      "vel values:  (16154,) [ 0.00221317  0.00907975  0.         ...  0.00278017  0.\n",
      " -0.00663483]\n",
      "self.track.galvo_triggers.times:  [   98402    98725    99048 ... 18104087 18104410 18104733]\n",
      "vel_times: [    5678     7062    12062 ... 18277963 18282963 18285886]\n",
      "fname 1:  /run/user/1000/gvfs/smb-share:server=scicore-toucan.scicore.unibas.ch,share=donafl00-calcium$/Users/Rodrigo/DON-008497/20220205/TRD-2P/wheel.npy\n"
     ]
    },
    {
     "name": "stderr",
     "output_type": "stream",
     "text": [
      "\n"
     ]
    },
    {
     "name": "stdout",
     "output_type": "stream",
     "text": [
      "fname 1:  /run/user/1000/gvfs/smb-share:server=scicore-toucan.scicore.unibas.ch,share=donafl00-calcium$/Users/Rodrigo/DON-008497/20220206/TRD-2P/wheel.npy\n"
     ]
    },
    {
     "name": "stderr",
     "output_type": "stream",
     "text": [
      "100%|█████████████████████████████| 2788060/2788060 [00:11<00:00, 242168.13it/s]\n"
     ]
    },
    {
     "name": "stdout",
     "output_type": "stream",
     "text": [
      "non-zero rotary encoder vals:  [    1489     2354     4306 ... 18274525 18275149 18278560]\n"
     ]
    },
    {
     "name": "stderr",
     "output_type": "stream",
     "text": [
      "100%|██████████████████████████████████| 12768/12768 [00:00<00:00, 96955.13it/s]\n"
     ]
    },
    {
     "name": "stdout",
     "output_type": "stream",
     "text": [
      "vel_times:  [    1489     2354     4306 ... 18274525 18275149 18278560]\n"
     ]
    },
    {
     "name": "stderr",
     "output_type": "stream",
     "text": [
      "refilling stationary times: 100%|█████| 12767/12767 [00:00<00:00, 170390.14it/s]\n"
     ]
    },
    {
     "name": "stdout",
     "output_type": "stream",
     "text": [
      "vel times:  (15344,)\n",
      "vel values:  (15344,) [ 0.00843947  0.0145276   0.00643769 ...  0.00370689  0.02013841\n",
      " -0.00368407]\n",
      "self.track.galvo_triggers.times:  [   84527    84850    85173 ... 18091609 18091932 18092255]\n",
      "vel_times: [    1489     2354     4306 ... 18274525 18275149 18278560]\n",
      "fname 1:  /run/user/1000/gvfs/smb-share:server=scicore-toucan.scicore.unibas.ch,share=donafl00-calcium$/Users/Rodrigo/DON-008497/20220207/TRD-2P/wheel.npy\n"
     ]
    },
    {
     "name": "stderr",
     "output_type": "stream",
     "text": [
      "100%|█████████████████████████████| 2788022/2788022 [00:11<00:00, 241790.97it/s]\n"
     ]
    },
    {
     "name": "stdout",
     "output_type": "stream",
     "text": [
      "non-zero rotary encoder vals:  [      77      253      429 ... 18297839 18298518 18299477]\n"
     ]
    },
    {
     "name": "stderr",
     "output_type": "stream",
     "text": [
      "100%|███████████████████████████████████| 9568/9568 [00:00<00:00, 104113.04it/s]\n"
     ]
    },
    {
     "name": "stdout",
     "output_type": "stream",
     "text": [
      "vel_times:  [      77      253      429 ... 18297839 18298518 18299477]\n"
     ]
    },
    {
     "name": "stderr",
     "output_type": "stream",
     "text": [
      "refilling stationary times: 100%|███████| 9567/9567 [00:00<00:00, 182832.16it/s]\n"
     ]
    },
    {
     "name": "stdout",
     "output_type": "stream",
     "text": [
      "vel times:  (12305,)\n",
      "vel values:  (12305,) [0.16319962 0.07139983 0.07139983 ... 0.01613141 0.01850717 0.01310362]\n",
      "self.track.galvo_triggers.times:  [  143256   143578   143901 ... 18150337 18150660 18150983]\n",
      "vel_times: [      77      253      429 ... 18297839 18298518 18299477]\n",
      "fname 1:  /run/user/1000/gvfs/smb-share:server=scicore-toucan.scicore.unibas.ch,share=donafl00-calcium$/Users/Rodrigo/DON-008497/20220208/TRD-2P/wheel.npy\n"
     ]
    },
    {
     "name": "stderr",
     "output_type": "stream",
     "text": [
      "100%|█████████████████████████████| 2788086/2788086 [00:11<00:00, 239909.14it/s]\n"
     ]
    },
    {
     "name": "stdout",
     "output_type": "stream",
     "text": [
      "non-zero rotary encoder vals:  [    1135     2407     5169 ... 18297526 18298003 18298870]\n"
     ]
    },
    {
     "name": "stderr",
     "output_type": "stream",
     "text": [
      "100%|████████████████████████████████████| 7856/7856 [00:00<00:00, 97749.14it/s]\n"
     ]
    },
    {
     "name": "stdout",
     "output_type": "stream",
     "text": [
      "vel_times:  [    1135     2407     5169 ... 18297526 18298003 18298870]\n"
     ]
    },
    {
     "name": "stderr",
     "output_type": "stream",
     "text": [
      "refilling stationary times: 100%|███████| 7855/7855 [00:00<00:00, 162509.78it/s]\n"
     ]
    },
    {
     "name": "stdout",
     "output_type": "stream",
     "text": [
      "vel times:  (10566,)\n",
      "vel values:  (10566,) [-0.01107169  0.00987922  0.00454974 ... -0.02607131 -0.02634459\n",
      " -0.01449408]\n",
      "self.track.galvo_triggers.times:  [   96268    96591    96914 ... 18102841 18103164 18103487]\n",
      "vel_times: [    1135     2407     5169 ... 18297526 18298003 18298870]\n",
      "fname 1:  /run/user/1000/gvfs/smb-share:server=scicore-toucan.scicore.unibas.ch,share=donafl00-calcium$/Users/Rodrigo/DON-008497/20220209/TRD-2P/wheel.npy\n"
     ]
    },
    {
     "name": "stderr",
     "output_type": "stream",
     "text": [
      "100%|█████████████████████████████| 2788010/2788010 [00:11<00:00, 252921.84it/s]\n"
     ]
    },
    {
     "name": "stdout",
     "output_type": "stream",
     "text": [
      "non-zero rotary encoder vals:  [   62482    65254    65787 ... 18262016 18267166 18269813]\n"
     ]
    },
    {
     "name": "stderr",
     "output_type": "stream",
     "text": [
      "100%|█████████████████████████████████| 10743/10743 [00:00<00:00, 103498.00it/s]\n"
     ]
    },
    {
     "name": "stdout",
     "output_type": "stream",
     "text": [
      "vel_times:  [   62482    65254    65787 ... 18262016 18267166 18269813]\n"
     ]
    },
    {
     "name": "stderr",
     "output_type": "stream",
     "text": [
      "refilling stationary times: 100%|█████| 10742/10742 [00:00<00:00, 183551.96it/s]\n"
     ]
    },
    {
     "name": "stdout",
     "output_type": "stream",
     "text": [
      "vel times:  (13240,)\n",
      "vel values:  (13240,) [-0.00020112 -0.00453332 -0.02357668 ...  0.          0.\n",
      "  0.0047474 ]\n",
      "self.track.galvo_triggers.times:  [  144472   144795   145118 ... 18151514 18151837 18152160]\n",
      "vel_times: [   62482    65254    65787 ... 18260766 18267016 18269813]\n",
      "fname 1:  /run/user/1000/gvfs/smb-share:server=scicore-toucan.scicore.unibas.ch,share=donafl00-calcium$/Users/Rodrigo/DON-008497/20220210/TRD-2P/wheel.npy\n"
     ]
    },
    {
     "name": "stderr",
     "output_type": "stream",
     "text": [
      "100%|█████████████████████████████| 2788108/2788108 [00:11<00:00, 241518.82it/s]\n"
     ]
    },
    {
     "name": "stdout",
     "output_type": "stream",
     "text": [
      "non-zero rotary encoder vals:  [    7124     8389     9350 ... 18295942 18296811 18299923]\n"
     ]
    },
    {
     "name": "stderr",
     "output_type": "stream",
     "text": [
      "100%|█████████████████████████████████| 14556/14556 [00:00<00:00, 105085.55it/s]\n"
     ]
    },
    {
     "name": "stdout",
     "output_type": "stream",
     "text": [
      "vel_times:  [    7124     8389     9350 ... 18295942 18296811 18299923]\n"
     ]
    },
    {
     "name": "stderr",
     "output_type": "stream",
     "text": [
      "refilling stationary times: 100%|█████| 14555/14555 [00:00<00:00, 174426.62it/s]"
     ]
    },
    {
     "name": "stdout",
     "output_type": "stream",
     "text": [
      "vel times:  (16601,)\n",
      "vel values:  (16601,) [-0.00176395 -0.00993389  0.01307635 ... -0.02478574  0.01446073\n",
      "  0.00403804]\n",
      "self.track.galvo_triggers.times:  [   94937    95260    95583 ... 18101628 18101951 18102274]\n",
      "vel_times: [    7124     8389     9350 ... 18295942 18296811 18299923]\n",
      "fname 1:  /run/user/1000/gvfs/smb-share:server=scicore-toucan.scicore.unibas.ch,share=donafl00-calcium$/Users/Rodrigo/DON-008497/20220211/TRD-2P/wheel.npy\n"
     ]
    },
    {
     "name": "stderr",
     "output_type": "stream",
     "text": [
      "\n",
      "100%|█████████████████████████████| 2788047/2788047 [00:11<00:00, 247292.60it/s]\n"
     ]
    },
    {
     "name": "stdout",
     "output_type": "stream",
     "text": [
      "non-zero rotary encoder vals:  [    1217    12587    13549 ... 18288465 18288888 18289484]\n"
     ]
    },
    {
     "name": "stderr",
     "output_type": "stream",
     "text": [
      "100%|████████████████████████████████████| 8118/8118 [00:00<00:00, 97270.27it/s]\n"
     ]
    },
    {
     "name": "stdout",
     "output_type": "stream",
     "text": [
      "vel_times:  [    1217    12587    13549 ... 18288465 18288888 18289484]\n"
     ]
    },
    {
     "name": "stderr",
     "output_type": "stream",
     "text": [
      "refilling stationary times: 100%|███████| 8117/8117 [00:00<00:00, 164108.68it/s]\n"
     ]
    },
    {
     "name": "stdout",
     "output_type": "stream",
     "text": [
      "vel times:  (10473,)\n",
      "vel values:  (10473,) [0.01032569 0.         0.         ... 0.02162887 0.02970773 0.02108452]\n",
      "self.track.galvo_triggers.times:  [  177747   178070   178393 ... 18184715 18185038 18185361]\n",
      "vel_times: [    1217     6217    11217 ... 18288465 18288888 18289484]\n",
      "fname 1:  /run/user/1000/gvfs/smb-share:server=scicore-toucan.scicore.unibas.ch,share=donafl00-calcium$/Users/Rodrigo/DON-008497/20220214/TRD-2P/wheel.npy\n"
     ]
    },
    {
     "name": "stderr",
     "output_type": "stream",
     "text": [
      "100%|█████████████████████████████| 1394002/1394002 [00:05<00:00, 245810.20it/s]\n"
     ]
    },
    {
     "name": "stdout",
     "output_type": "stream",
     "text": [
      "non-zero rotary encoder vals:  [    635     999    1406 ... 9299463 9299725 9299956]\n"
     ]
    },
    {
     "name": "stderr",
     "output_type": "stream",
     "text": [
      "100%|█████████████████████████████████| 14872/14872 [00:00<00:00, 116127.78it/s]\n"
     ]
    },
    {
     "name": "stdout",
     "output_type": "stream",
     "text": [
      "vel_times:  [    635     999    1406 ... 9299463 9299725 9299956]\n"
     ]
    },
    {
     "name": "stderr",
     "output_type": "stream",
     "text": [
      "refilling stationary times: 100%|█████| 14871/14871 [00:00<00:00, 175505.69it/s]\n"
     ]
    },
    {
     "name": "stdout",
     "output_type": "stream",
     "text": [
      "vel times:  (15667,)\n",
      "vel values:  (15667,) [-0.01978956 -0.034523   -0.0308756  ...  0.0431834   0.04796325\n",
      "  0.05439987]\n",
      "self.track.galvo_triggers.times:  [ 108123  108446  108769 ... 9111021 9111344 9111667]\n",
      "vel_times: [    635     999    1406 ... 9299463 9299725 9299956]\n",
      "fname 1:  /run/user/1000/gvfs/smb-share:server=scicore-toucan.scicore.unibas.ch,share=donafl00-calcium$/Users/Rodrigo/DON-008498/20220130/TRD-2P/wheel.npy\n"
     ]
    },
    {
     "name": "stderr",
     "output_type": "stream",
     "text": [
      "100%|█████████████████████████████| 2788072/2788072 [00:11<00:00, 249846.43it/s]\n"
     ]
    },
    {
     "name": "stdout",
     "output_type": "stream",
     "text": [
      "non-zero rotary encoder vals:  [    5334     7081     7297 ... 18299489 18299708 18299922]\n"
     ]
    },
    {
     "name": "stderr",
     "output_type": "stream",
     "text": [
      "100%|█████████████████████████████████| 11476/11476 [00:00<00:00, 100549.25it/s]\n"
     ]
    },
    {
     "name": "stdout",
     "output_type": "stream",
     "text": [
      "vel_times:  [    5334     7080     7297 ... 18299489 18299708 18299922]\n"
     ]
    },
    {
     "name": "stderr",
     "output_type": "stream",
     "text": [
      "refilling stationary times: 100%|█████| 11475/11475 [00:00<00:00, 161303.17it/s]\n"
     ]
    },
    {
     "name": "stdout",
     "output_type": "stream",
     "text": [
      "vel times:  (13533,)\n",
      "vel values:  (13533,) [0.0023559  0.00719311 0.05817764 ... 0.06129937 0.05738069 0.05872136]\n",
      "self.track.galvo_triggers.times:  [  105052   105375   105698 ... 18112538 18112861 18113184]\n",
      "vel_times: [    5334     7080     7297 ... 18299489 18299708 18299922]\n",
      "fname 1:  /run/user/1000/gvfs/smb-share:server=scicore-toucan.scicore.unibas.ch,share=donafl00-calcium$/Users/Rodrigo/DON-008498/20220131/TRD-2P/wheel.npy\n"
     ]
    },
    {
     "name": "stderr",
     "output_type": "stream",
     "text": [
      "100%|█████████████████████████████| 2788098/2788098 [00:11<00:00, 253283.38it/s]\n"
     ]
    },
    {
     "name": "stdout",
     "output_type": "stream",
     "text": [
      "non-zero rotary encoder vals:  [     173      424      660 ... 18299317 18299556 18299829]\n"
     ]
    },
    {
     "name": "stderr",
     "output_type": "stream",
     "text": [
      "100%|█████████████████████████████████| 10986/10986 [00:00<00:00, 103343.34it/s]\n"
     ]
    },
    {
     "name": "stdout",
     "output_type": "stream",
     "text": [
      "vel_times:  [     173      424      660 ... 18299317 18299556 18299829]\n"
     ]
    },
    {
     "name": "stderr",
     "output_type": "stream",
     "text": [
      "refilling stationary times: 100%|█████| 10985/10985 [00:00<00:00, 183473.55it/s]\n"
     ]
    },
    {
     "name": "stdout",
     "output_type": "stream",
     "text": [
      "vel times:  (13679,)\n",
      "vel values:  (13679,) [0.07263798 0.05006522 0.05324733 ... 0.05535846 0.05257896 0.04603066]\n",
      "self.track.galvo_triggers.times:  [   87784    88107    88430 ... 18095198 18095521 18095844]\n",
      "vel_times: [     173      424      660 ... 18299317 18299556 18299829]\n",
      "fname 1:  /run/user/1000/gvfs/smb-share:server=scicore-toucan.scicore.unibas.ch,share=donafl00-calcium$/Users/Rodrigo/DON-008498/20220201/TRD-2P/wheel.npy\n"
     ]
    },
    {
     "name": "stderr",
     "output_type": "stream",
     "text": [
      "100%|█████████████████████████████| 2788010/2788010 [00:11<00:00, 245102.44it/s]\n"
     ]
    },
    {
     "name": "stdout",
     "output_type": "stream",
     "text": [
      "non-zero rotary encoder vals:  [     196      619     1257 ... 18272538 18274007 18274889]\n"
     ]
    },
    {
     "name": "stderr",
     "output_type": "stream",
     "text": [
      "100%|█████████████████████████████████| 13996/13996 [00:00<00:00, 106961.13it/s]\n"
     ]
    },
    {
     "name": "stdout",
     "output_type": "stream",
     "text": [
      "vel_times:  [     196      619     1257 ... 18272538 18274007 18274889]\n"
     ]
    },
    {
     "name": "stderr",
     "output_type": "stream",
     "text": [
      "refilling stationary times: 100%|█████| 13995/13995 [00:00<00:00, 179822.52it/s]"
     ]
    },
    {
     "name": "stdout",
     "output_type": "stream",
     "text": [
      "vel times:  (16585,)\n",
      "vel values:  (16585,) [ 0.06411414  0.02970773 -0.01969651 ...  0.00316693 -0.00855437\n",
      "  0.01424759]\n",
      "self.track.galvo_triggers.times:  [  100907   101230   101553 ... 18108054 18108377 18108700]\n",
      "vel_times: [     196      619     1257 ... 18272538 18274007 18274889]\n",
      "fname 1:  /run/user/1000/gvfs/smb-share:server=scicore-toucan.scicore.unibas.ch,share=donafl00-calcium$/Users/Rodrigo/DON-008498/20220202/TRD-2P/wheel.npy\n"
     ]
    },
    {
     "name": "stderr",
     "output_type": "stream",
     "text": [
      "\n",
      "100%|█████████████████████████████| 2788033/2788033 [00:11<00:00, 245085.63it/s]\n"
     ]
    },
    {
     "name": "stdout",
     "output_type": "stream",
     "text": [
      "non-zero rotary encoder vals:  [  136712   141167   141507 ... 18298750 18299220 18299776]\n"
     ]
    },
    {
     "name": "stderr",
     "output_type": "stream",
     "text": [
      "100%|█████████████████████████████████| 17649/17649 [00:00<00:00, 109063.10it/s]\n"
     ]
    },
    {
     "name": "stdout",
     "output_type": "stream",
     "text": [
      "vel_times:  [  136712   141167   141507 ... 18298750 18299220 18299776]\n"
     ]
    },
    {
     "name": "stderr",
     "output_type": "stream",
     "text": [
      "refilling stationary times: 100%|█████| 17648/17648 [00:00<00:00, 184808.74it/s]"
     ]
    },
    {
     "name": "stdout",
     "output_type": "stream",
     "text": [
      "vel times:  (19845,)\n",
      "vel values:  (19845,) [ 9.19185622e-05 -2.82073417e-03  3.69599126e-02 ... -2.70244535e-02\n",
      " -2.67369580e-02 -2.26013865e-02]\n",
      "self.track.galvo_triggers.times:  [   90328    90651    90974 ... 18097507 18097830 18098153]\n",
      "vel_times: [  136712   141167   141507 ... 18298750 18299220 18299776]\n"
     ]
    },
    {
     "name": "stderr",
     "output_type": "stream",
     "text": [
      "\n"
     ]
    },
    {
     "name": "stdout",
     "output_type": "stream",
     "text": [
      "fname 1:  /run/user/1000/gvfs/smb-share:server=scicore-toucan.scicore.unibas.ch,share=donafl00-calcium$/Users/Rodrigo/DON-008498/20220203/TRD-2P/wheel.npy\n"
     ]
    },
    {
     "name": "stderr",
     "output_type": "stream",
     "text": [
      "100%|█████████████████████████████| 2788012/2788012 [00:11<00:00, 246601.18it/s]\n"
     ]
    },
    {
     "name": "stdout",
     "output_type": "stream",
     "text": [
      "non-zero rotary encoder vals:  [   10125    12221    12973 ... 18257898 18298048 18298624]\n"
     ]
    },
    {
     "name": "stderr",
     "output_type": "stream",
     "text": [
      "100%|████████████████████████████████████| 4177/4177 [00:00<00:00, 72827.22it/s]\n"
     ]
    },
    {
     "name": "stdout",
     "output_type": "stream",
     "text": [
      "vel_times:  [   10125    12221    12972 ... 18257898 18298048 18298624]\n"
     ]
    },
    {
     "name": "stderr",
     "output_type": "stream",
     "text": [
      "refilling stationary times: 100%|███████| 4176/4176 [00:00<00:00, 154492.33it/s]\n"
     ]
    },
    {
     "name": "stdout",
     "output_type": "stream",
     "text": [
      "vel times:  (7106,)\n",
      "vel values:  (7106,) [ 0.00124112 -0.00599541  0.0167106  ...  0.          0.\n",
      "  0.02181662]\n",
      "self.track.galvo_triggers.times:  [   96501    96824    97147 ... 18103533 18103856 18104179]\n",
      "vel_times: [   10125    12221    12972 ... 18292898 18297898 18298624]\n",
      "fname 1:  /run/user/1000/gvfs/smb-share:server=scicore-toucan.scicore.unibas.ch,share=donafl00-calcium$/Users/Rodrigo/DON-008498/20220204/TRD-2P/wheel.npy\n"
     ]
    },
    {
     "name": "stderr",
     "output_type": "stream",
     "text": [
      "100%|█████████████████████████████| 2788047/2788047 [00:11<00:00, 246259.37it/s]\n"
     ]
    },
    {
     "name": "stdout",
     "output_type": "stream",
     "text": [
      "non-zero rotary encoder vals:  [   45171    45685    46439 ... 17965533 17968508 17968944]\n"
     ]
    },
    {
     "name": "stderr",
     "output_type": "stream",
     "text": [
      "100%|████████████████████████████████████| 5372/5372 [00:00<00:00, 99101.43it/s]\n"
     ]
    },
    {
     "name": "stdout",
     "output_type": "stream",
     "text": [
      "vel_times:  [   45171    45685    46439 ... 17965533 17968508 17968944]\n"
     ]
    },
    {
     "name": "stderr",
     "output_type": "stream",
     "text": [
      "refilling stationary times: 100%|███████| 5371/5371 [00:00<00:00, 159233.83it/s]\n"
     ]
    },
    {
     "name": "stdout",
     "output_type": "stream",
     "text": [
      "vel times:  (8179,)\n",
      "vel values:  (8179,) [-0.0002782   0.02444819 -0.01666627 ...  0.00985598 -0.00422399\n",
      "  0.02882195]\n",
      "self.track.galvo_triggers.times:  [  103610   103933   104256 ... 18110711 18111034 18111357]\n",
      "vel_times: [   45171    45685    46439 ... 17965533 17968508 17968944]\n",
      "fname 1:  /run/user/1000/gvfs/smb-share:server=scicore-toucan.scicore.unibas.ch,share=donafl00-calcium$/Users/Rodrigo/DON-008498/20220205/TRD-2P/wheel.npy\n"
     ]
    },
    {
     "name": "stderr",
     "output_type": "stream",
     "text": [
      "100%|█████████████████████████████| 2788042/2788042 [00:11<00:00, 242185.29it/s]\n"
     ]
    },
    {
     "name": "stdout",
     "output_type": "stream",
     "text": [
      "non-zero rotary encoder vals:  [      29      240      481 ... 18297966 18298138 18299965]\n"
     ]
    },
    {
     "name": "stderr",
     "output_type": "stream",
     "text": [
      "100%|█████████████████████████████████| 11078/11078 [00:00<00:00, 105620.82it/s]\n"
     ]
    },
    {
     "name": "stdout",
     "output_type": "stream",
     "text": [
      "vel_times:  [      28      240      480 ... 18297966 18298138 18299965]\n"
     ]
    },
    {
     "name": "stderr",
     "output_type": "stream",
     "text": [
      "refilling stationary times: 100%|█████| 11077/11077 [00:00<00:00, 182946.28it/s]\n"
     ]
    },
    {
     "name": "stdout",
     "output_type": "stream",
     "text": [
      "vel times:  (13773,)\n",
      "vel values:  (13773,) [ 0.43332312  0.05955626  0.05214262 ...  0.01536231 -0.0730603\n",
      "  0.00687815]\n",
      "self.track.galvo_triggers.times:  [  111788   112111   112434 ... 18118866 18119189 18119512]\n",
      "vel_times: [      28      240      480 ... 18297966 18298138 18299965]\n",
      "fname 1:  /run/user/1000/gvfs/smb-share:server=scicore-toucan.scicore.unibas.ch,share=donafl00-calcium$/Users/Rodrigo/DON-008498/20220206/TRD-2P/wheel.npy\n"
     ]
    },
    {
     "name": "stderr",
     "output_type": "stream",
     "text": [
      "100%|█████████████████████████████| 2788024/2788024 [00:11<00:00, 246570.42it/s]\n"
     ]
    },
    {
     "name": "stdout",
     "output_type": "stream",
     "text": [
      "non-zero rotary encoder vals:  [       0      394      801 ... 18270438 18271448 18272000]\n"
     ]
    },
    {
     "name": "stderr",
     "output_type": "stream",
     "text": [
      "  0%|                                                 | 0/17850 [00:00<?, ?it/s]/home/cat/code/donatolab/manifolds/utils/wheel/wheel.py:231: RuntimeWarning: divide by zero encountered in true_divide\n",
      "  v[id_] = (click*click_distance ) /((id_ -last_time_idx ) /self.sample_rate)\n",
      "100%|█████████████████████████████████| 17850/17850 [00:00<00:00, 102135.28it/s]\n"
     ]
    },
    {
     "name": "stdout",
     "output_type": "stream",
     "text": [
      "vel_times:  [       0      394      801 ... 18270438 18271448 18272000]\n"
     ]
    },
    {
     "name": "stderr",
     "output_type": "stream",
     "text": [
      "refilling stationary times: 100%|█████| 17849/17849 [00:00<00:00, 181007.44it/s]"
     ]
    },
    {
     "name": "stdout",
     "output_type": "stream",
     "text": [
      "vel times:  (20167,)\n",
      "vel values:  (20167,) [        inf  0.03189434  0.0308756  ...  0.         -0.01244195\n",
      "  0.02276516]\n",
      "self.track.galvo_triggers.times:  [  135123   135446   135769 ... 18142060 18142383 18142706]\n",
      "vel_times: [       0      394      801 ... 18266519 18271448 18272000]\n"
     ]
    },
    {
     "name": "stderr",
     "output_type": "stream",
     "text": [
      "\n"
     ]
    },
    {
     "name": "stdout",
     "output_type": "stream",
     "text": [
      "fname 1:  /run/user/1000/gvfs/smb-share:server=scicore-toucan.scicore.unibas.ch,share=donafl00-calcium$/Users/Rodrigo/DON-008498/20220207/TRD-2P/wheel.npy\n"
     ]
    },
    {
     "name": "stderr",
     "output_type": "stream",
     "text": [
      "100%|█████████████████████████████| 2788042/2788042 [00:11<00:00, 242474.28it/s]\n"
     ]
    },
    {
     "name": "stdout",
     "output_type": "stream",
     "text": [
      "non-zero rotary encoder vals:  [      29      143      267 ... 18298940 18299399 18299771]\n"
     ]
    },
    {
     "name": "stderr",
     "output_type": "stream",
     "text": [
      "100%|█████████████████████████████████| 26082/26082 [00:00<00:00, 108473.49it/s]\n"
     ]
    },
    {
     "name": "stdout",
     "output_type": "stream",
     "text": [
      "vel_times:  [      28      143      267 ... 18298940 18299399 18299771]\n"
     ]
    },
    {
     "name": "stderr",
     "output_type": "stream",
     "text": [
      "refilling stationary times: 100%|█████| 26081/26081 [00:00<00:00, 183084.09it/s]\n"
     ]
    },
    {
     "name": "stdout",
     "output_type": "stream",
     "text": [
      "vel times:  (28388,)\n",
      "vel values:  (28388,) [0.43332312 0.11023132 0.1013417  ... 0.02335757 0.02737771 0.03378057]\n",
      "self.track.galvo_triggers.times:  [   89629    89952    90275 ... 18096737 18097060 18097383]\n",
      "vel_times: [      28      143      267 ... 18298940 18299399 18299771]\n",
      "fname 1:  /run/user/1000/gvfs/smb-share:server=scicore-toucan.scicore.unibas.ch,share=donafl00-calcium$/Users/Rodrigo/DON-008498/20220208/TRD-2P/wheel.npy\n"
     ]
    },
    {
     "name": "stderr",
     "output_type": "stream",
     "text": [
      "100%|█████████████████████████████| 2788043/2788043 [00:11<00:00, 246475.36it/s]\n"
     ]
    },
    {
     "name": "stdout",
     "output_type": "stream",
     "text": [
      "non-zero rotary encoder vals:  [     162      336      498 ... 18299601 18299740 18299883]\n"
     ]
    },
    {
     "name": "stderr",
     "output_type": "stream",
     "text": [
      "100%|█████████████████████████████████| 26053/26053 [00:00<00:00, 113980.10it/s]\n"
     ]
    },
    {
     "name": "stdout",
     "output_type": "stream",
     "text": [
      "vel_times:  [     162      336      497 ... 18299601 18299740 18299883]\n"
     ]
    },
    {
     "name": "stderr",
     "output_type": "stream",
     "text": [
      "refilling stationary times: 100%|█████| 26052/26052 [00:00<00:00, 197209.45it/s]\n"
     ]
    },
    {
     "name": "stdout",
     "output_type": "stream",
     "text": [
      "vel times:  (28051,)\n",
      "vel values:  (28051,) [0.07757019 0.07222052 0.07757019 ... 0.09106065 0.09040555 0.08787671]\n",
      "self.track.galvo_triggers.times:  [  106509   106832   107155 ... 18113677 18114000 18114323]\n",
      "vel_times: [     162      336      497 ... 18299601 18299740 18299883]\n",
      "fname 1:  /run/user/1000/gvfs/smb-share:server=scicore-toucan.scicore.unibas.ch,share=donafl00-calcium$/Users/Rodrigo/DON-008498/20220209/TRD-2P/wheel.npy\n"
     ]
    },
    {
     "name": "stderr",
     "output_type": "stream",
     "text": [
      "100%|█████████████████████████████| 2788047/2788047 [00:11<00:00, 243423.12it/s]\n"
     ]
    },
    {
     "name": "stdout",
     "output_type": "stream",
     "text": [
      "non-zero rotary encoder vals:  [     437     1088     1792 ... 18298617 18298942 18299522]\n"
     ]
    },
    {
     "name": "stderr",
     "output_type": "stream",
     "text": [
      "100%|█████████████████████████████████| 29107/29107 [00:00<00:00, 105422.89it/s]\n"
     ]
    },
    {
     "name": "stdout",
     "output_type": "stream",
     "text": [
      "vel_times:  [     437     1088     1792 ... 18298617 18298942 18299522]\n"
     ]
    },
    {
     "name": "stderr",
     "output_type": "stream",
     "text": [
      "refilling stationary times: 100%|█████| 29106/29106 [00:00<00:00, 205920.95it/s]\n"
     ]
    },
    {
     "name": "stdout",
     "output_type": "stream",
     "text": [
      "vel times:  (31077,)\n",
      "vel values:  (31077,) [0.028756   0.01930318 0.01784996 ... 0.05171346 0.03866576 0.02166616]\n",
      "self.track.galvo_triggers.times:  [   94714    95037    95360 ... 18101922 18102245 18102568]\n",
      "vel_times: [     437     1088     1792 ... 18298617 18298942 18299522]\n",
      "fname 1:  /run/user/1000/gvfs/smb-share:server=scicore-toucan.scicore.unibas.ch,share=donafl00-calcium$/Users/Rodrigo/DON-008498/20220210/TRD-2P/wheel.npy\n"
     ]
    },
    {
     "name": "stderr",
     "output_type": "stream",
     "text": [
      "100%|█████████████████████████████| 2788036/2788036 [00:11<00:00, 247445.39it/s]\n"
     ]
    },
    {
     "name": "stdout",
     "output_type": "stream",
     "text": [
      "non-zero rotary encoder vals:  [      34      150      266 ... 18294833 18295851 18298912]\n"
     ]
    },
    {
     "name": "stderr",
     "output_type": "stream",
     "text": [
      "100%|█████████████████████████████████| 32832/32832 [00:00<00:00, 117408.41it/s]\n"
     ]
    },
    {
     "name": "stdout",
     "output_type": "stream",
     "text": [
      "vel_times:  [      34      150      266 ... 18294833 18295851 18298912]\n"
     ]
    },
    {
     "name": "stderr",
     "output_type": "stream",
     "text": [
      "refilling stationary times: 100%|█████| 32831/32831 [00:00<00:00, 213576.77it/s]\n"
     ]
    },
    {
     "name": "stdout",
     "output_type": "stream",
     "text": [
      "vel times:  (34734,)\n",
      "vel values:  (34734,) [ 0.36959913  0.10833078  0.10833078 ... -0.01613141  0.01234418\n",
      "  0.00410532]\n",
      "self.track.galvo_triggers.times:  [  115543   115866   116189 ... 18122756 18123079 18123403]\n",
      "vel_times: [      34      150      266 ... 18294833 18295851 18298912]\n",
      "fname 1:  /run/user/1000/gvfs/smb-share:server=scicore-toucan.scicore.unibas.ch,share=donafl00-calcium$/Users/Rodrigo/DON-008498/20220211/TRD-2P/wheel.npy\n"
     ]
    },
    {
     "name": "stderr",
     "output_type": "stream",
     "text": [
      "100%|█████████████████████████████| 2788030/2788030 [00:11<00:00, 249398.81it/s]\n"
     ]
    },
    {
     "name": "stdout",
     "output_type": "stream",
     "text": [
      "non-zero rotary encoder vals:  [   18051    18475    18725 ... 18298930 18299401 18299950]\n"
     ]
    },
    {
     "name": "stderr",
     "output_type": "stream",
     "text": [
      "100%|█████████████████████████████████| 36946/36946 [00:00<00:00, 113679.32it/s]\n"
     ]
    },
    {
     "name": "stdout",
     "output_type": "stream",
     "text": [
      "vel_times:  [   18051    18475    18725 ... 18298930 18299401 18299950]\n"
     ]
    },
    {
     "name": "stderr",
     "output_type": "stream",
     "text": [
      "refilling stationary times: 100%|█████| 36945/36945 [00:00<00:00, 212597.01it/s]\n"
     ]
    },
    {
     "name": "stdout",
     "output_type": "stream",
     "text": [
      "vel times:  (38695,)\n",
      "vel values:  (38695,) [ 0.00069616  0.02963767  0.05026548 ... -0.02252038 -0.02668019\n",
      " -0.02288956]\n",
      "self.track.galvo_triggers.times:  [   94166    94489    94812 ... 18101341 18101664 18101987]\n",
      "vel_times: [   18051    18475    18725 ... 18298930 18299401 18299950]\n",
      "fname 1:  /run/user/1000/gvfs/smb-share:server=scicore-toucan.scicore.unibas.ch,share=donafl00-calcium$/Users/Rodrigo/DON-008499/20220130/TRD-2P/wheel.npy\n"
     ]
    },
    {
     "name": "stderr",
     "output_type": "stream",
     "text": [
      "100%|█████████████████████████████| 2788058/2788058 [00:11<00:00, 232687.51it/s]\n"
     ]
    },
    {
     "name": "stdout",
     "output_type": "stream",
     "text": [
      "non-zero rotary encoder vals:  [   26486    27372    29216 ... 18297959 18298296 18299618]\n"
     ]
    },
    {
     "name": "stderr",
     "output_type": "stream",
     "text": [
      "100%|██████████████████████████████████| 10441/10441 [00:00<00:00, 69527.39it/s]\n"
     ]
    },
    {
     "name": "stdout",
     "output_type": "stream",
     "text": [
      "vel_times:  [   26486    27372    29216 ... 18297959 18298296 18299618]\n"
     ]
    },
    {
     "name": "stderr",
     "output_type": "stream",
     "text": [
      "refilling stationary times: 100%|█████| 10440/10440 [00:00<00:00, 174022.29it/s]\n"
     ]
    },
    {
     "name": "stdout",
     "output_type": "stream",
     "text": [
      "vel times:  (12750,)\n",
      "vel values:  (12750,) [-0.00047445 -0.01418326  0.00681473 ...  0.04147317  0.03728893\n",
      " -0.00950558]\n",
      "self.track.galvo_triggers.times:  [   94008    94331    94654 ... 18101495 18101818 18102141]\n",
      "vel_times: [   26486    27372    29216 ... 18297959 18298296 18299618]\n",
      "fname 1:  /run/user/1000/gvfs/smb-share:server=scicore-toucan.scicore.unibas.ch,share=donafl00-calcium$/Users/Rodrigo/DON-008499/20220131/TRD-2P/wheel.npy\n"
     ]
    },
    {
     "name": "stderr",
     "output_type": "stream",
     "text": [
      "100%|█████████████████████████████| 2788106/2788106 [00:11<00:00, 233056.03it/s]\n"
     ]
    },
    {
     "name": "stdout",
     "output_type": "stream",
     "text": [
      "non-zero rotary encoder vals:  [   17014    24460    25276 ... 18282073 18282928 18292909]\n"
     ]
    },
    {
     "name": "stderr",
     "output_type": "stream",
     "text": [
      "100%|████████████████████████████████████| 3305/3305 [00:00<00:00, 88610.73it/s]\n"
     ]
    },
    {
     "name": "stdout",
     "output_type": "stream",
     "text": [
      "vel_times:  [   17014    24460    25276 ... 18282073 18282928 18292909]\n"
     ]
    },
    {
     "name": "stderr",
     "output_type": "stream",
     "text": [
      "refilling stationary times: 100%|███████| 3304/3304 [00:00<00:00, 123155.77it/s]\n"
     ]
    },
    {
     "name": "stdout",
     "output_type": "stream",
     "text": [
      "vel times:  (5997,)\n",
      "vel values:  (5997,) [0.00073859 0.         0.01539996 ... 0.02148098 0.01469751 0.        ]\n",
      "self.track.galvo_triggers.times:  [   92097    92420    92742 ... 18098950 18099273 18099596]\n",
      "vel_times: [   17014    22014    25276 ... 18282073 18282928 18287928]\n",
      "fname 1:  /run/user/1000/gvfs/smb-share:server=scicore-toucan.scicore.unibas.ch,share=donafl00-calcium$/Users/Rodrigo/DON-008499/20220201/TRD-2P/wheel.npy\n"
     ]
    },
    {
     "name": "stderr",
     "output_type": "stream",
     "text": [
      "100%|█████████████████████████████| 2787995/2787995 [00:11<00:00, 245233.74it/s]\n"
     ]
    },
    {
     "name": "stdout",
     "output_type": "stream",
     "text": [
      "non-zero rotary encoder vals:  [    6612    27975    28249 ... 18297742 18298325 18298913]\n"
     ]
    },
    {
     "name": "stderr",
     "output_type": "stream",
     "text": [
      "100%|████████████████████████████████████| 3896/3896 [00:00<00:00, 92487.72it/s]\n"
     ]
    },
    {
     "name": "stdout",
     "output_type": "stream",
     "text": [
      "vel_times:  [    6612    27975    28249 ... 18297742 18298325 18298913]\n"
     ]
    },
    {
     "name": "stderr",
     "output_type": "stream",
     "text": [
      "refilling stationary times: 100%|███████| 3895/3895 [00:00<00:00, 132847.71it/s]\n"
     ]
    },
    {
     "name": "stdout",
     "output_type": "stream",
     "text": [
      "vel times:  (6387,)\n",
      "vel values:  (6387,) [ 0.00190054  0.          0.         ... -0.00982515 -0.02155467\n",
      " -0.02137138]\n",
      "self.track.galvo_triggers.times:  [  130864   131187   131510 ... 18138059 18138382 18138705]\n",
      "vel_times: [    6612    11612    16612 ... 18297742 18298325 18298913]\n",
      "fname 1:  /run/user/1000/gvfs/smb-share:server=scicore-toucan.scicore.unibas.ch,share=donafl00-calcium$/Users/Rodrigo/DON-008499/20220202/TRD-2P/wheel.npy\n"
     ]
    },
    {
     "name": "stderr",
     "output_type": "stream",
     "text": [
      "100%|█████████████████████████████| 2788051/2788051 [00:11<00:00, 246495.50it/s]\n"
     ]
    },
    {
     "name": "stdout",
     "output_type": "stream",
     "text": [
      "non-zero rotary encoder vals:  [     712     1888     4740 ... 18284957 18291667 18293602]\n"
     ]
    },
    {
     "name": "stderr",
     "output_type": "stream",
     "text": [
      "100%|████████████████████████████████████| 2591/2591 [00:00<00:00, 82881.65it/s]\n"
     ]
    },
    {
     "name": "stdout",
     "output_type": "stream",
     "text": [
      "vel_times:  [     712     1888     4740 ... 18284957 18291667 18293602]\n"
     ]
    },
    {
     "name": "stderr",
     "output_type": "stream",
     "text": [
      "refilling stationary times: 100%|███████| 2590/2590 [00:00<00:00, 128416.29it/s]"
     ]
    },
    {
     "name": "stdout",
     "output_type": "stream",
     "text": [
      "vel times:  (5394,)\n",
      "vel values:  (5394,) [-0.0176494   0.01068569 -0.00440616 ...  0.0031128   0.\n",
      "  0.00649425]\n",
      "self.track.galvo_triggers.times:  [   87095    87418    87741 ... 18094205 18094528 18094851]\n",
      "vel_times: [     712     1888     4740 ... 18284957 18289957 18293602]\n"
     ]
    },
    {
     "name": "stderr",
     "output_type": "stream",
     "text": [
      "\n"
     ]
    },
    {
     "name": "stdout",
     "output_type": "stream",
     "text": [
      "fname 1:  /run/user/1000/gvfs/smb-share:server=scicore-toucan.scicore.unibas.ch,share=donafl00-calcium$/Users/Rodrigo/DON-008499/20220203/TRD-2P/wheel.npy\n"
     ]
    },
    {
     "name": "stderr",
     "output_type": "stream",
     "text": [
      "100%|█████████████████████████████| 2788043/2788043 [00:11<00:00, 245467.79it/s]\n"
     ]
    },
    {
     "name": "stdout",
     "output_type": "stream",
     "text": [
      "non-zero rotary encoder vals:  [   11982    13061    16231 ... 18298704 18299569 18299751]\n"
     ]
    },
    {
     "name": "stderr",
     "output_type": "stream",
     "text": [
      "100%|█████████████████████████████████| 56984/56984 [00:00<00:00, 112875.34it/s]\n"
     ]
    },
    {
     "name": "stdout",
     "output_type": "stream",
     "text": [
      "vel_times:  [   11982    13061    16231 ... 18298704 18299569 18299751]\n"
     ]
    },
    {
     "name": "stderr",
     "output_type": "stream",
     "text": [
      "refilling stationary times: 100%|█████| 56983/56983 [00:00<00:00, 211444.93it/s]\n"
     ]
    },
    {
     "name": "stdout",
     "output_type": "stream",
     "text": [
      "vel times:  (58043,)\n",
      "vel values:  (58043,) [-0.00104877  0.01164631  0.00396415 ...  0.01644813  0.0145276\n",
      " -0.06904599]\n",
      "self.track.galvo_triggers.times:  [   72355    72678    73001 ... 18079497 18079820 18080143]\n",
      "vel_times: [   11982    13061    16231 ... 18298704 18299569 18299751]\n",
      "fname 1:  /run/user/1000/gvfs/smb-share:server=scicore-toucan.scicore.unibas.ch,share=donafl00-calcium$/Users/Rodrigo/DON-008499/20220204/TRD-2P/wheel.npy\n"
     ]
    },
    {
     "name": "stderr",
     "output_type": "stream",
     "text": [
      "100%|█████████████████████████████| 2788035/2788035 [00:11<00:00, 246932.29it/s]\n"
     ]
    },
    {
     "name": "stdout",
     "output_type": "stream",
     "text": [
      "non-zero rotary encoder vals:  [    7727    26321    27236 ... 18292833 18294215 18296074]\n"
     ]
    },
    {
     "name": "stderr",
     "output_type": "stream",
     "text": [
      "100%|█████████████████████████████████| 19361/19361 [00:00<00:00, 110777.99it/s]\n"
     ]
    },
    {
     "name": "stdout",
     "output_type": "stream",
     "text": [
      "vel_times:  [    7727    26321    27235 ... 18292833 18294215 18296074]\n"
     ]
    },
    {
     "name": "stderr",
     "output_type": "stream",
     "text": [
      "refilling stationary times: 100%|█████| 19360/19360 [00:00<00:00, 184777.41it/s]\n"
     ]
    },
    {
     "name": "stdout",
     "output_type": "stream",
     "text": [
      "vel times:  (21860,)\n",
      "vel values:  (21860,) [ 0.00162629  0.          0.         ...  0.03773685 -0.00909289\n",
      "  0.00675975]\n",
      "self.track.galvo_triggers.times:  [  100174   100497   100820 ... 18107293 18107616 18107939]\n",
      "vel_times: [    7727    12727    17727 ... 18292833 18294215 18296074]\n",
      "fname 1:  /run/user/1000/gvfs/smb-share:server=scicore-toucan.scicore.unibas.ch,share=donafl00-calcium$/Users/Rodrigo/DON-008499/20220205/TRD-2P/wheel.npy\n"
     ]
    },
    {
     "name": "stderr",
     "output_type": "stream",
     "text": [
      "100%|█████████████████████████████| 2788030/2788030 [00:11<00:00, 241878.76it/s]\n"
     ]
    },
    {
     "name": "stdout",
     "output_type": "stream",
     "text": [
      "non-zero rotary encoder vals:  [    8852    10509    12018 ... 18295490 18295988 18298290]\n"
     ]
    },
    {
     "name": "stderr",
     "output_type": "stream",
     "text": [
      "100%|█████████████████████████████████| 51323/51323 [00:00<00:00, 120265.88it/s]\n"
     ]
    },
    {
     "name": "stdout",
     "output_type": "stream",
     "text": [
      "vel_times:  [    8852    10509    12018 ... 18295490 18295988 18298290]\n"
     ]
    },
    {
     "name": "stderr",
     "output_type": "stream",
     "text": [
      "refilling stationary times: 100%|█████| 51322/51322 [00:00<00:00, 219923.10it/s]\n"
     ]
    },
    {
     "name": "stdout",
     "output_type": "stream",
     "text": [
      "vel times:  (52788,)\n",
      "vel values:  (52788,) [ 0.00141961  0.00758381 -0.00832761 ...  0.0181595  -0.02523368\n",
      "  0.00545889]\n",
      "self.track.galvo_triggers.times:  [  100105   100428   100751 ... 18106798 18107121 18107444]\n",
      "vel_times: [    8852    10509    12018 ... 18295490 18295988 18298290]\n",
      "fname 1:  /run/user/1000/gvfs/smb-share:server=scicore-toucan.scicore.unibas.ch,share=donafl00-calcium$/Users/Rodrigo/DON-008499/20220206/TRD-2P/wheel.npy\n"
     ]
    },
    {
     "name": "stderr",
     "output_type": "stream",
     "text": [
      "100%|█████████████████████████████| 2788043/2788043 [00:11<00:00, 251740.90it/s]\n"
     ]
    },
    {
     "name": "stdout",
     "output_type": "stream",
     "text": [
      "non-zero rotary encoder vals:  [      36       90      142 ... 18283701 18284119 18285990]\n"
     ]
    },
    {
     "name": "stderr",
     "output_type": "stream",
     "text": [
      "100%|█████████████████████████████████| 70472/70472 [00:00<00:00, 114818.52it/s]\n"
     ]
    },
    {
     "name": "stdout",
     "output_type": "stream",
     "text": [
      "vel_times:  [      36       90      142 ... 18283701 18284119 18285990]\n"
     ]
    },
    {
     "name": "stderr",
     "output_type": "stream",
     "text": [
      "refilling stationary times: 100%|█████| 70471/70471 [00:00<00:00, 216182.64it/s]\n"
     ]
    },
    {
     "name": "stdout",
     "output_type": "stream",
     "text": [
      "vel times:  (71543,)\n",
      "vel values:  (71543,) [ 0.34906584  0.23271057  0.24166097 ... -0.03263992 -0.03006309\n",
      "  0.00671639]\n",
      "self.track.galvo_triggers.times:  [  144007   144330   144653 ... 18151124 18151447 18151770]\n",
      "vel_times: [      36       90      142 ... 18283701 18284119 18285990]\n",
      "fname 1:  /run/user/1000/gvfs/smb-share:server=scicore-toucan.scicore.unibas.ch,share=donafl00-calcium$/Users/Rodrigo/DON-008499/20220207/TRD-2P/wheel.npy\n"
     ]
    },
    {
     "name": "stderr",
     "output_type": "stream",
     "text": [
      "100%|█████████████████████████████| 2788051/2788051 [00:11<00:00, 245178.91it/s]\n"
     ]
    },
    {
     "name": "stdout",
     "output_type": "stream",
     "text": [
      "non-zero rotary encoder vals:  [     178     1345     1849 ... 18252002 18291381 18293220]\n"
     ]
    },
    {
     "name": "stderr",
     "output_type": "stream",
     "text": [
      "100%|████████████████████████████████████| 8422/8422 [00:00<00:00, 97754.66it/s]\n"
     ]
    },
    {
     "name": "stdout",
     "output_type": "stream",
     "text": [
      "vel_times:  [     178     1345     1849 ... 18252002 18291381 18293220]\n"
     ]
    },
    {
     "name": "stderr",
     "output_type": "stream",
     "text": [
      "refilling stationary times: 100%|███████| 8421/8421 [00:00<00:00, 158976.27it/s]\n"
     ]
    },
    {
     "name": "stdout",
     "output_type": "stream",
     "text": [
      "vel times:  (10808,)\n",
      "vel values:  (10808,) [ 0.07059759  0.0107681  -0.02493327 ...  0.          0.\n",
      "  0.00683326]\n",
      "self.track.galvo_triggers.times:  [   85789    86112    86435 ... 18092312 18092635 18092958]\n",
      "vel_times: [     178     1345     1849 ... 18282002 18287002 18293220]\n",
      "fname 1:  /run/user/1000/gvfs/smb-share:server=scicore-toucan.scicore.unibas.ch,share=donafl00-calcium$/Users/Rodrigo/DON-008499/20220208/TRD-2P/wheel.npy\n"
     ]
    },
    {
     "name": "stderr",
     "output_type": "stream",
     "text": [
      "100%|█████████████████████████████| 2788043/2788043 [00:10<00:00, 255453.79it/s]\n"
     ]
    },
    {
     "name": "stdout",
     "output_type": "stream",
     "text": [
      "non-zero rotary encoder vals:  [     553     1331     4783 ... 18297940 18298795 18299256]\n"
     ]
    },
    {
     "name": "stderr",
     "output_type": "stream",
     "text": [
      "100%|█████████████████████████████████| 16628/16628 [00:00<00:00, 110465.76it/s]\n"
     ]
    },
    {
     "name": "stdout",
     "output_type": "stream",
     "text": [
      "vel_times:  [     553     1331     4783 ... 18297940 18298795 18299256]\n"
     ]
    },
    {
     "name": "stderr",
     "output_type": "stream",
     "text": [
      "refilling stationary times: 100%|█████| 16627/16627 [00:00<00:00, 189732.62it/s]"
     ]
    },
    {
     "name": "stdout",
     "output_type": "stream",
     "text": [
      "vel times:  (18954,)\n",
      "vel values:  (18954,) [ 0.022724    0.01615215  0.00364032 ... -0.01048071 -0.01469751\n",
      "  0.02725894]\n",
      "self.track.galvo_triggers.times:  [  113390   113713   114036 ... 18120604 18120927 18121250]\n",
      "vel_times: [     553     1331     4783 ... 18297940 18298795 18299256]\n"
     ]
    },
    {
     "name": "stderr",
     "output_type": "stream",
     "text": [
      "\n"
     ]
    },
    {
     "name": "stdout",
     "output_type": "stream",
     "text": [
      "fname 1:  /run/user/1000/gvfs/smb-share:server=scicore-toucan.scicore.unibas.ch,share=donafl00-calcium$/Users/Rodrigo/DON-008499/20220209/TRD-2P/wheel.npy\n"
     ]
    },
    {
     "name": "stderr",
     "output_type": "stream",
     "text": [
      "100%|█████████████████████████████| 2788075/2788075 [00:11<00:00, 248306.48it/s]\n"
     ]
    },
    {
     "name": "stdout",
     "output_type": "stream",
     "text": [
      "non-zero rotary encoder vals:  [      69      145      221 ... 18131610 18273732 18274338]\n"
     ]
    },
    {
     "name": "stderr",
     "output_type": "stream",
     "text": [
      "100%|████████████████████████████████████| 6118/6118 [00:00<00:00, 97315.93it/s]\n"
     ]
    },
    {
     "name": "stdout",
     "output_type": "stream",
     "text": [
      "vel_times:  [      69      145      221 ... 18131610 18273732 18274338]\n"
     ]
    },
    {
     "name": "stderr",
     "output_type": "stream",
     "text": [
      "refilling stationary times: 100%|███████| 6117/6117 [00:00<00:00, 141582.32it/s]\n"
     ]
    },
    {
     "name": "stdout",
     "output_type": "stream",
     "text": [
      "vel times:  (8602,)\n",
      "vel values:  (8602,) [0.18212131 0.16534698 0.16534698 ... 0.         0.         0.02073658]\n",
      "self.track.galvo_triggers.times:  [  117948   118271   118594 ... 18124268 18124591 18124914]\n",
      "vel_times: [      69      145      221 ... 18266610 18271610 18274338]\n",
      "fname 1:  /run/user/1000/gvfs/smb-share:server=scicore-toucan.scicore.unibas.ch,share=donafl00-calcium$/Users/Rodrigo/DON-008499/20220210/TRD-2P/wheel.npy\n"
     ]
    },
    {
     "name": "stderr",
     "output_type": "stream",
     "text": [
      "100%|█████████████████████████████| 2788022/2788022 [00:11<00:00, 243764.26it/s]\n"
     ]
    },
    {
     "name": "stdout",
     "output_type": "stream",
     "text": [
      "non-zero rotary encoder vals:  [    7176     7449    13383 ... 18297724 18298401 18299825]\n"
     ]
    },
    {
     "name": "stderr",
     "output_type": "stream",
     "text": [
      "100%|██████████████████████████████████| 10859/10859 [00:00<00:00, 85382.21it/s]\n"
     ]
    },
    {
     "name": "stdout",
     "output_type": "stream",
     "text": [
      "vel_times:  [    7176     7449    13383 ... 18297724 18298401 18299825]\n"
     ]
    },
    {
     "name": "stderr",
     "output_type": "stream",
     "text": [
      "refilling stationary times: 100%|█████| 10858/10858 [00:00<00:00, 170880.68it/s]\n"
     ]
    },
    {
     "name": "stdout",
     "output_type": "stream",
     "text": [
      "vel times:  (13430,)\n",
      "vel values:  (13430,) [ 0.00175117 -0.04603066  0.         ...  0.01698158  0.01856185\n",
      "  0.0088247 ]\n",
      "self.track.galvo_triggers.times:  [  113558   113881   114204 ... 18120746 18121069 18121392]\n",
      "vel_times: [    7176     7449    12449 ... 18297724 18298401 18299825]\n",
      "fname 1:  /run/user/1000/gvfs/smb-share:server=scicore-toucan.scicore.unibas.ch,share=donafl00-calcium$/Users/Rodrigo/DON-008499/20220211/TRD-2P/wheel.npy\n"
     ]
    },
    {
     "name": "stderr",
     "output_type": "stream",
     "text": [
      "100%|█████████████████████████████| 2788072/2788072 [00:11<00:00, 244318.85it/s]\n"
     ]
    },
    {
     "name": "stdout",
     "output_type": "stream",
     "text": [
      "non-zero rotary encoder vals:  [      31      166      303 ... 18293214 18293855 18294465]\n"
     ]
    },
    {
     "name": "stderr",
     "output_type": "stream",
     "text": [
      "100%|███████████████████████████████████| 8950/8950 [00:00<00:00, 103189.56it/s]\n"
     ]
    },
    {
     "name": "stdout",
     "output_type": "stream",
     "text": [
      "vel_times:  [      31      166      303 ... 18293214 18293855 18294465]\n"
     ]
    },
    {
     "name": "stderr",
     "output_type": "stream",
     "text": [
      "refilling stationary times: 100%|███████| 8949/8949 [00:00<00:00, 169918.50it/s]\n"
     ]
    },
    {
     "name": "stdout",
     "output_type": "stream",
     "text": [
      "vel times:  (11496,)\n",
      "vel values:  (11496,) [0.40536681 0.09308422 0.09172533 ... 0.00575647 0.01960432 0.02060061]\n",
      "self.track.galvo_triggers.times:  [  140285   140607   140930 ... 18147462 18147785 18148108]\n",
      "vel_times: [      31      166      303 ... 18293214 18293855 18294465]\n"
     ]
    }
   ],
   "source": [
    "#\n",
    "# import scipy\n",
    "# fname_mat = '/media/cat/4TB1/donato/DON-009191/20220220/TRD-2P/DON-009191_20220220_TRD-2P_S1-ACQ.mat'\n",
    "\n",
    "# data = scipy.io.loadmat(fname_mat)\n",
    "# #print (data)\n",
    "\n",
    "# print (data['trainingdata'].shape)\n",
    "# rot1 = data['trainingdata'][:,0]\n",
    "# rot2 = data['trainingdata'][:,1]\n",
    "\n",
    "# #\n",
    "# vel, times = get_velocity(rot1,rot2)\n",
    "\n",
    "root_names = '/home/cat/Downloads/trd_matfile_names.txt'\n",
    "\n",
    "\n",
    "with open(root_names) as f:\n",
    "    fnames = f.readlines()\n",
    "\n",
    "\n",
    "print (fnames[0])    \n",
    "#\n",
    "for fname in fnames:\n",
    "    \n",
    "    idx = fname.find(\"TRD-2P\")\n",
    "    #print (idx)\n",
    "                     \n",
    "    fname1 = fname[:idx+7]+\"wheel.npy\"\n",
    "    \n",
    "    \n",
    "    #\n",
    "    fname1 = fname1.replace('\\\\', '/')\n",
    "    \n",
    "    print (\"fname 1: \", fname1)\n",
    "   # break\n",
    "    #\n",
    "    try:\n",
    "        data_wheel = np.load(fname1)\n",
    "    except:\n",
    "        print (\" error processing file: \", fname1)\n",
    "        continue\n",
    "\n",
    "\n",
    "    w = wheel.Wheel()\n",
    "    w.root_dir = os.path.split(fname1)[0]\n",
    "    w.load_track()\n",
    "    w.compute_velocity()\n",
    "                               \n",
    "                            \n",
    "    #break\n"
   ]
  },
  {
   "cell_type": "code",
   "execution_count": null,
   "metadata": {},
   "outputs": [],
   "source": []
  },
  {
   "cell_type": "code",
   "execution_count": 10,
   "id": "97e97429-443d-4d3a-8118-cb9463c44307",
   "metadata": {},
   "outputs": [
    {
     "name": "stdout",
     "output_type": "stream",
     "text": [
      "Keys: <KeysViewHDF5 ['raw_dist', 'spd', 'tt']>\n",
      "<class 'h5py._hl.dataset.Dataset'>\n"
     ]
    }
   ],
   "source": [
    "####################################################\n",
    "def get_h5py_speed(filename):\n",
    "    import h5py\n",
    "    #filename = \"file.hdf5\"\n",
    "\n",
    "    with h5py.File(filename, \"r\") as f:\n",
    "        # Print all root level object names (aka keys) \n",
    "        # these can be group or dataset names \n",
    "        print(\"Keys: %s\" % f.keys())\n",
    "        # get first object name/key; may or may NOT be a group\n",
    "        a_group_key = list(f.keys())[1]\n",
    "\n",
    "        # get the object type for a_group_key: usually group or dataset\n",
    "        print(type(f[a_group_key])) \n",
    "\n",
    "        # If a_group_key is a group name, \n",
    "        # this gets the object names in the group and returns as a list\n",
    "        data = list(f[a_group_key])\n",
    "\n",
    "        # If a_group_key is a dataset name, \n",
    "        # this gets the dataset values and returns as a list\n",
    "        data = list(f[a_group_key])\n",
    "\n",
    "        # preferred methods to get dataset values:\n",
    "        ds_obj = f[a_group_key]      # returns as a h5py dataset object\n",
    "        ds_arr = f[a_group_key][()].squeeze()  # returns as a numpy array\n",
    "\n",
    "        #\n",
    "\n",
    "    return ds_arr\n",
    "\n",
    "################################################\n",
    "vel_python = np.load('/media/cat/4TB1/donato/DON-009191/20220217/TRD-2P/velocity.npy')*100\n",
    "\n",
    "\n",
    "filename = '/media/cat/4TB1/donato/DON-009191/20220217/TRD-2P/trd_var.mat'\n",
    "vel_matlab = get_h5py_speed(filename)\n",
    "####################################################\n",
    "\n",
    "plt.figure()\n",
    "#times = np.arange(vel_python.shape[0])/30.\n",
    "plt.plot(w.track.velocity.times[start:end],\n",
    "         w.track.velocity.values[start:end]*100, c='blue', label='python')\n",
    "\n",
    "#\n",
    "times_matlab = np.arange(vel_matlab.shape[0])/10000.\n",
    "plt.plot(times_matlab[::30], vel_matlab[::30], c='red',label='matlab')\n",
    "plt.legend(fontsize=16)\n",
    "plt.show()"
   ]
  },
  {
   "cell_type": "code",
   "execution_count": 5,
   "id": "8da6af6d-eadb-486c-a53c-c82580f61114",
   "metadata": {},
   "outputs": [
    {
     "ename": "FileNotFoundError",
     "evalue": "[Errno 2] No such file or directory: '/home/cat/Downloads/Downloads/results.npz'",
     "output_type": "error",
     "traceback": [
      "\u001b[0;31m---------------------------------------------------------------------------\u001b[0m",
      "\u001b[0;31mFileNotFoundError\u001b[0m                         Traceback (most recent call last)",
      "\u001b[0;32m/tmp/ipykernel_101841/790425230.py\u001b[0m in \u001b[0;36m<module>\u001b[0;34m\u001b[0m\n\u001b[1;32m      2\u001b[0m \u001b[0;31m############# COMPUTE VELOCITY FROM ROTARY ENCODERS ##############\u001b[0m\u001b[0;34m\u001b[0m\u001b[0;34m\u001b[0m\u001b[0;34m\u001b[0m\u001b[0m\n\u001b[1;32m      3\u001b[0m \u001b[0;31m##################################################################\u001b[0m\u001b[0;34m\u001b[0m\u001b[0;34m\u001b[0m\u001b[0;34m\u001b[0m\u001b[0m\n\u001b[0;32m----> 4\u001b[0;31m data = np.load('/home/cat/Downloads/Downloads/results.npz',\n\u001b[0m\u001b[1;32m      5\u001b[0m                allow_pickle=True)\n\u001b[1;32m      6\u001b[0m \u001b[0;34m\u001b[0m\u001b[0m\n",
      "\u001b[0;32m~/anaconda3/envs/manifolds/lib/python3.8/site-packages/numpy/lib/npyio.py\u001b[0m in \u001b[0;36mload\u001b[0;34m(file, mmap_mode, allow_pickle, fix_imports, encoding)\u001b[0m\n\u001b[1;32m    405\u001b[0m             \u001b[0mown_fid\u001b[0m \u001b[0;34m=\u001b[0m \u001b[0;32mFalse\u001b[0m\u001b[0;34m\u001b[0m\u001b[0;34m\u001b[0m\u001b[0m\n\u001b[1;32m    406\u001b[0m         \u001b[0;32melse\u001b[0m\u001b[0;34m:\u001b[0m\u001b[0;34m\u001b[0m\u001b[0;34m\u001b[0m\u001b[0m\n\u001b[0;32m--> 407\u001b[0;31m             \u001b[0mfid\u001b[0m \u001b[0;34m=\u001b[0m \u001b[0mstack\u001b[0m\u001b[0;34m.\u001b[0m\u001b[0menter_context\u001b[0m\u001b[0;34m(\u001b[0m\u001b[0mopen\u001b[0m\u001b[0;34m(\u001b[0m\u001b[0mos_fspath\u001b[0m\u001b[0;34m(\u001b[0m\u001b[0mfile\u001b[0m\u001b[0;34m)\u001b[0m\u001b[0;34m,\u001b[0m \u001b[0;34m\"rb\"\u001b[0m\u001b[0;34m)\u001b[0m\u001b[0;34m)\u001b[0m\u001b[0;34m\u001b[0m\u001b[0;34m\u001b[0m\u001b[0m\n\u001b[0m\u001b[1;32m    408\u001b[0m             \u001b[0mown_fid\u001b[0m \u001b[0;34m=\u001b[0m \u001b[0;32mTrue\u001b[0m\u001b[0;34m\u001b[0m\u001b[0;34m\u001b[0m\u001b[0m\n\u001b[1;32m    409\u001b[0m \u001b[0;34m\u001b[0m\u001b[0m\n",
      "\u001b[0;31mFileNotFoundError\u001b[0m: [Errno 2] No such file or directory: '/home/cat/Downloads/Downloads/results.npz'"
     ]
    }
   ],
   "source": [
    "##################################################################\n",
    "############# COMPUTE VELOCITY FROM ROTARY ENCODERS ##############\n",
    "##################################################################\n",
    "data = np.load('/home/cat/Downloads/Downloads/results.npz',\n",
    "               allow_pickle=True)\n",
    "\n",
    "#\n",
    "lick_detector_times = data['lick_detector_abstime']\n",
    "print (\"lick detector: \", lick_detector_times.shape, lick_detector_times)\n",
    "\n",
    "#\n",
    "reward_times = data['reward_times'].squeeze().T[:,1]\n",
    "#print (\"reward times: \", reward_times[:50])\n",
    "ttl_times = data['ttl_times']\n",
    "#print (\"ttl times: \", ttl_times)\n",
    "\n",
    "#\n",
    "rot1 = data['rotary_encoder1_abstime']\n",
    "rot2 = data['rotary_encoder2_abstime']\n",
    "#print (\"rotary 1: \", rot1)\n",
    "#print (\"rotary 2: \", rot2)\n",
    "\n",
    "#\n",
    "vel, times = get_velocity(rot1,rot2)\n",
    "\n",
    "plt.figure()\n",
    "plt.plot(times, vel)\n",
    "plt.show()"
   ]
  },
  {
   "cell_type": "code",
   "execution_count": 21,
   "id": "446cb9d1-1f7a-4950-86ef-cacefe172a11",
   "metadata": {},
   "outputs": [
    {
     "name": "stdout",
     "output_type": "stream",
     "text": [
      "(18300000,) (18300000,)\n"
     ]
    }
   ],
   "source": [
    "#\n",
    "vel2 = np.load('/media/cat/4TB1/donato/DON-009191/20220217/TRD-2P/wheel.npy').squeeze()\n",
    "print (vel.shape, vel2.shape)\n",
    "\n",
    "plt.figure()\n",
    "#plt.plot(times, vel, c='blue')\n",
    "plt.plot(times, vel2, c='red',)\n",
    "plt.show()"
   ]
  },
  {
   "cell_type": "code",
   "execution_count": 67,
   "id": "501ff89f-79aa-4869-8bbc-b95e0bee5a96",
   "metadata": {},
   "outputs": [],
   "source": [
    "#################################################\n",
    "#################### PUP IDS ####################\n",
    "#################################################\n",
    "\n",
    "#\n",
    "mouse_ids = [\n",
    "    #'006084',\n",
    "    #'006085',\n",
    "    #'006087',\n",
    "    '009191',\n",
    "    '009192',\n",
    "    '010473',\n",
    "    '010477'\n",
    "]\n",
    "\n",
    "#\n",
    "PDays = [\n",
    "    #[19,28],\n",
    "    #[19,28],\n",
    "    #[24,33],\n",
    "    [16,48],  # expression issues\n",
    "    [15,60],  \n",
    "    [16,33],\n",
    "    [15,33],\n",
    "]\n",
    "\n",
    "#\n",
    "fig=plt.figure()\n",
    "ax=plt.subplot()\n",
    "xlabels = mouse_ids\n",
    "\n",
    "#\n",
    "for k in range(len(mouse_ids)):\n",
    "    #y = np.arange(PDays[k][0],PDays[k][1],0.1)\n",
    "    x = np.arange(PDays[k][0],PDays[k][1],0.1)\n",
    "    y = k\n",
    "    #plt.fill_betweenx(y, k, k+0.9, \n",
    "                      #alpha=.5, label = mouse_ids[k])\n",
    "    \n",
    "    #x = np.arange(\n",
    "    ax.fill_between(x,k,k+0.9,\n",
    "                   label = mouse_ids[k])\n",
    "    \n",
    "    plt.text(np.median(x)-1,k+0.3,str(PDays[k][1]-PDays[k][0]+1))\n",
    "\n",
    "#\n",
    "plt.xlim(left=0)\n",
    "plt.ylabel(\"mice ids\")\n",
    "plt.yticks(np.arange(len(mouse_ids))+0.5, \n",
    "           mouse_ids, \n",
    "           rotation=45)\n",
    "plt.xlabel(\"P-Day\")\n",
    "plt.legend(ncol=2, fontsize=8, loc=4)\n",
    "plt.show()\n",
    "\n",
    "\n"
   ]
  },
  {
   "cell_type": "code",
   "execution_count": 5,
   "id": "ed40d8ef-5530-420d-b34c-f30640710a1a",
   "metadata": {},
   "outputs": [],
   "source": [
    "#################################################\n",
    "################## ADULT IDS ####################\n",
    "#################################################\n",
    "\n",
    "#\n",
    "mouse_ids = [\n",
    "    '002865', \n",
    "    '003165',\n",
    "    '003343',\n",
    "    '008497',\n",
    "    '008498',\n",
    "    '008499'\n",
    "]\n",
    "\n",
    "#\n",
    "PDays = [\n",
    "    [90,99],\n",
    "    [120,129],\n",
    "    [150,159],\n",
    "    [61,73],\n",
    "    [61,73],\n",
    "    [61,73],\n",
    "]\n",
    "\n",
    "#\n",
    "fig=plt.figure()\n",
    "ax=plt.subplot()\n",
    "xlabels = mouse_ids\n",
    "\n",
    "for k in range(len(mouse_ids)):\n",
    "    #y = np.arange(PDays[k][0],PDays[k][1],0.1)\n",
    "    x = np.arange(PDays[k][0],PDays[k][1],0.1)\n",
    "    y = k\n",
    "    #plt.fill_betweenx(y, k, k+0.9, \n",
    "                      #alpha=.5, label = mouse_ids[k])\n",
    "    \n",
    "    #x = np.arange(\n",
    "    alpha=1.0\n",
    "    if k >2:\n",
    "        alpha=.3\n",
    "    ax.fill_between(x,k,k+0.9, label = mouse_ids[k],\n",
    "                   alpha=alpha)\n",
    "    \n",
    "    plt.text(np.median(x)-3,k+0.3,str(PDays[k][1]-PDays[k][0]+1))\n",
    "\n",
    "plt.xlim(left=0)\n",
    "plt.ylabel(\"mice ids\")\n",
    "plt.yticks(np.arange(len(mouse_ids))+0.5, mouse_ids,\n",
    "          rotation=45)\n",
    "plt.xlabel(\"P-Day\")\n",
    "plt.legend(ncol=2, fontsize=8, loc=4)\n",
    "plt.show()\n"
   ]
  },
  {
   "cell_type": "code",
   "execution_count": 44,
   "id": "a8cf6d20-bb08-4ffc-a6e2-ab6d20481e0c",
   "metadata": {},
   "outputs": [
    {
     "name": "stdout",
     "output_type": "stream",
     "text": [
      "(18299999,)\n"
     ]
    }
   ],
   "source": []
  },
  {
   "cell_type": "code",
   "execution_count": 43,
   "id": "35d29b28-c26d-4108-badb-002c58ee4dca",
   "metadata": {},
   "outputs": [
    {
     "name": "stdout",
     "output_type": "stream",
     "text": [
      "(18299999,)\n"
     ]
    }
   ],
   "source": []
  },
  {
   "cell_type": "code",
   "execution_count": null,
   "id": "50a93598-4be6-45ca-8acf-a3ff3cf8dc9c",
   "metadata": {},
   "outputs": [],
   "source": []
  },
  {
   "cell_type": "code",
   "execution_count": null,
   "id": "2df4f0ff-060d-4c58-adaa-c1954208a6e3",
   "metadata": {},
   "outputs": [],
   "source": []
  },
  {
   "cell_type": "code",
   "execution_count": null,
   "id": "14abf60b-d66a-477c-adca-cccc06f8f5b1",
   "metadata": {},
   "outputs": [],
   "source": []
  }
 ],
 "metadata": {
  "kernelspec": {
   "display_name": "Python 3 (ipykernel)",
   "language": "python",
   "name": "python3"
  },
  "language_info": {
   "codemirror_mode": {
    "name": "ipython",
    "version": 3
   },
   "file_extension": ".py",
   "mimetype": "text/x-python",
   "name": "python",
   "nbconvert_exporter": "python",
   "pygments_lexer": "ipython3",
   "version": "3.8.15"
  }
 },
 "nbformat": 4,
 "nbformat_minor": 5
}
